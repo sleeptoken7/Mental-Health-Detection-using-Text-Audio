{
 "cells": [
  {
   "cell_type": "markdown",
   "id": "85e8fbc3",
   "metadata": {},
   "source": [
    "ML- LA \" Detecting stress , anxiety, depression through voice notes and text \" using Daic-woz"
   ]
  },
  {
   "cell_type": "markdown",
   "id": "e63cdcb2",
   "metadata": {},
   "source": [
    "Purabh singh - 1nt22is122\n",
    "Palak kota - 1nt22is110\n",
    "Prathuysha NB - 1nt22is119\n",
    "Monika K - 1nt22is097"
   ]
  },
  {
   "cell_type": "code",
   "execution_count": null,
   "id": "55b53e99",
   "metadata": {},
   "outputs": [],
   "source": [
    "# implementation"
   ]
  },
  {
   "cell_type": "code",
   "execution_count": 16,
   "id": "d55327f0",
   "metadata": {
    "scrolled": true
   },
   "outputs": [
    {
     "name": "stdout",
     "output_type": "stream",
     "text": [
      " yes, Loaded data for patient 319\n",
      " yes, Loaded data for patient 320\n",
      " yes, Loaded data for patient 321\n",
      " yes, Loaded data for patient 325\n",
      " yes, Loaded data for patient 330\n",
      " yes, Loaded data for patient 338\n",
      " yes, Loaded data for patient 303\n",
      " yes, Loaded data for patient 304\n",
      " yes, Loaded data for patient 310\n",
      " yes, Loaded data for patient 318\n",
      " yes, Loaded data for patient 327\n",
      " yes, Loaded data for patient 325\n",
      " yes, Loaded data for patient 303\n",
      " yes, Loaded data for patient 306\n",
      " yes, Loaded data for patient 308\n",
      " yes, Loaded data for patient 309\n",
      " yes, Loaded data for patient 311\n",
      " yes, Loaded data for patient 313\n",
      " yes, Loaded data for patient 314\n",
      " yes, Loaded data for patient 315\n",
      " yes, Loaded data for patient 317\n",
      " yes, Loaded data for patient 335\n"
     ]
    }
   ],
   "source": [
    "import os\n",
    "import pandas as pd\n",
    "\n",
    "base_path = '/Users/Saravanan/patient data/'\n",
    "patient_ids = [319, 320, 321, 325, 330, 338, 303, 304, 310, 318,327,325,303,306,308,309,311,313,314,315,317,335]\n",
    "file_types = ['COVAREP', 'FORMANT']\n",
    "\n",
    "features = []\n",
    "labels = []  \n",
    "\n",
    "for pid in patient_ids:\n",
    "    try:\n",
    "        covarep_file = os.path.join(base_path, f\"{pid}_COVAREP.csv\")\n",
    "        formant_file = os.path.join(base_path, f\"{pid}_FORMANT.csv\")\n",
    "\n",
    "        covarep_df = pd.read_csv(covarep_file)\n",
    "        formant_df = pd.read_csv(formant_file)\n",
    "\n",
    "        # Basic preprocessing (averaging across time steps)\n",
    "        covarep_mean = covarep_df.mean(numeric_only=True)\n",
    "        formant_mean = formant_df.mean(numeric_only=True)\n",
    "\n",
    "        combined_features = pd.concat([covarep_mean, formant_mean])\n",
    "        features.append(combined_features)\n",
    "\n",
    "        # Placeholder label (example: 1 = depressed, 0 = not)\n",
    "        labels.append(1 if pid in [330, 318, 357] else 0)\n",
    "\n",
    "        print(f\" yes, Loaded data for patient {pid}\")\n",
    "\n",
    "    except Exception as e:\n",
    "        print(f\" no, Failed to load data for patient {pid}: {e}\")\n",
    "\n",
    "# Final dataset\n",
    "X = pd.DataFrame(features)\n",
    "y = pd.Series(labels)\n"
   ]
  },
  {
   "cell_type": "code",
   "execution_count": 17,
   "id": "1ed69044",
   "metadata": {},
   "outputs": [
    {
     "name": "stdout",
     "output_type": "stream",
     "text": [
      "yes , Feature shape: (22, 79)\n"
     ]
    }
   ],
   "source": [
    "import numpy as np\n",
    "from sklearn.ensemble import RandomForestClassifier\n",
    "from sklearn.model_selection import train_test_split\n",
    "from sklearn.metrics import classification_report, accuracy_score\n",
    "\n",
    "# Path and Patient IDs\n",
    "base_path = '/Users/Saravanan/patient data/'\n",
    "patient_ids = [319, 320, 321, 325, 330, 338, 303, 304, 310, 318,327,325,303,306,308,309,311,313,314,315,317,335]  # 312 removed\n",
    "\n",
    "X = []\n",
    "y = []  # Placeholder for labels (e.g., 0 = not depressed, 1 = depressed)\n",
    "\n",
    "for pid in patient_ids:\n",
    "    try:\n",
    "        covarep_file = os.path.join(base_path, f'{pid}_COVAREP.csv')\n",
    "        formant_file = os.path.join(base_path, f'{pid}_FORMANT.csv')\n",
    "        \n",
    "        df_covarep = pd.read_csv(covarep_file).dropna()\n",
    "        df_formant = pd.read_csv(formant_file).dropna()\n",
    "\n",
    "        # Average across time (rows) to make a fixed-size feature vector\n",
    "        covarep_mean = df_covarep.mean().values\n",
    "        formant_mean = df_formant.mean().values\n",
    "\n",
    "        features = np.concatenate([covarep_mean, formant_mean])\n",
    "        X.append(features)\n",
    "\n",
    "        # Dummy binary label (randomized just for example)\n",
    "        y.append(np.random.randint(0, 2))  \n",
    "\n",
    "    except Exception as e:\n",
    "        print(f\"no, Patient {pid}: Failed to load/merge data – {e}\")\n",
    "\n",
    "X = np.array(X)\n",
    "y = np.array(y)\n",
    "print(\"yes , Feature shape:\", X.shape)\n"
   ]
  },
  {
   "cell_type": "code",
   "execution_count": 18,
   "id": "ed4bbd57",
   "metadata": {},
   "outputs": [
    {
     "name": "stdout",
     "output_type": "stream",
     "text": [
      " Accuracy: 0.5714285714285714\n",
      " Classification Report:\n",
      "               precision    recall  f1-score   support\n",
      "\n",
      "           0       0.50      1.00      0.67         3\n",
      "           1       1.00      0.25      0.40         4\n",
      "\n",
      "    accuracy                           0.57         7\n",
      "   macro avg       0.75      0.62      0.53         7\n",
      "weighted avg       0.79      0.57      0.51         7\n",
      "\n"
     ]
    }
   ],
   "source": [
    "# Split dataset\n",
    "X_train, X_test, y_train, y_test = train_test_split(\n",
    "    X, y, test_size=0.3, random_state=42\n",
    ")\n",
    "\n",
    "# Random Forest Classifier\n",
    "from sklearn.ensemble import RandomForestClassifier\n",
    "\n",
    "rf_model = RandomForestClassifier(n_estimators=700, max_depth=12, random_state=79)\n",
    "\n",
    "rf_model.fit(X_train, y_train)\n",
    "\n",
    "# Predict & Evaluate\n",
    "y_pred = rf_model.predict(X_test)\n",
    "print(\" Accuracy:\", accuracy_score(y_test, y_pred))\n",
    "print(\" Classification Report:\\n\", classification_report(y_test, y_pred))"
   ]
  },
  {
   "cell_type": "markdown",
   "id": "f2e936c4",
   "metadata": {},
   "source": [
    "Above we are performing data processing and binary classification using acoustic features from patient voice recordings.\n",
    "\n",
    "To train a machine learning model (Random Forest) to classify patients as depressed (1) or not depressed (0) using features extracted from two types of audio analysis: COVAREP and FORMANT.\n",
    "\n",
    "base_path: directory where the CSV files for each patient are stored.\n",
    "\n",
    "patient_ids: list of patient IDs to load data from.\n",
    "\n",
    "file_types: two types of features being used: COVAREP and FORMANT.\n",
    "\n",
    "Features: Mean of each feature type per patient\n",
    "\n",
    "Labels: Hardcoded or randomly assigned (for testing)\n",
    "\n",
    "Model: RandomForestClassifier(n_estimators=700, max_depth=12)\n",
    "\n",
    "Output Accuracy: ~57%; Model performs better at detecting non-depressed patients than depressed ones."
   ]
  },
  {
   "cell_type": "markdown",
   "id": "619af2a3",
   "metadata": {},
   "source": [
    " Trying diffrent models on this dataset..."
   ]
  },
  {
   "cell_type": "code",
   "execution_count": 21,
   "id": "6aa0bd3a",
   "metadata": {},
   "outputs": [],
   "source": [
    "# testing with diffrent suitable models"
   ]
  },
  {
   "cell_type": "code",
   "execution_count": 29,
   "id": "a69a4f2a",
   "metadata": {
    "scrolled": true
   },
   "outputs": [
    {
     "name": "stdout",
     "output_type": "stream",
     "text": [
      "Patient 319:\n",
      "  COVAREP: Found\n",
      "  FORMANT: Found\n",
      "  TRANSCRIPT: Found\n",
      "Patient 320:\n",
      "  COVAREP: Found\n",
      "  FORMANT: Found\n",
      "  TRANSCRIPT: Found\n",
      "Patient 321:\n",
      "  COVAREP: Found\n",
      "  FORMANT: Found\n",
      "  TRANSCRIPT: Found\n",
      "Patient 325:\n",
      "  COVAREP: Found\n",
      "  FORMANT: Found\n",
      "  TRANSCRIPT: Found\n",
      "Patient 330:\n",
      "  COVAREP: Found\n",
      "  FORMANT: Found\n",
      "  TRANSCRIPT: Found\n",
      "Patient 338:\n",
      "  COVAREP: Found\n",
      "  FORMANT: Found\n",
      "  TRANSCRIPT: Found\n",
      "Patient 303:\n",
      "  COVAREP: Found\n",
      "  FORMANT: Found\n",
      "  TRANSCRIPT: Found\n",
      "Patient 304:\n",
      "  COVAREP: Found\n",
      "  FORMANT: Found\n",
      "  TRANSCRIPT: Found\n",
      "Patient 310:\n",
      "  COVAREP: Found\n",
      "  FORMANT: Found\n",
      "  TRANSCRIPT: Found\n",
      "Patient 318:\n",
      "  COVAREP: Found\n",
      "  FORMANT: Found\n",
      "  TRANSCRIPT: Found\n",
      "Patient 327:\n",
      "  COVAREP: Found\n",
      "  FORMANT: Found\n",
      "  TRANSCRIPT: Found\n",
      "Patient 306:\n",
      "  COVAREP: Found\n",
      "  FORMANT: Found\n",
      "  TRANSCRIPT: Found\n",
      "Patient 308:\n",
      "  COVAREP: Found\n",
      "  FORMANT: Found\n",
      "  TRANSCRIPT: Found\n",
      "Patient 309:\n",
      "  COVAREP: Found\n",
      "  FORMANT: Found\n",
      "  TRANSCRIPT: Found\n",
      "Patient 311:\n",
      "  COVAREP: Found\n",
      "  FORMANT: Found\n",
      "  TRANSCRIPT: Found\n",
      "Patient 313:\n",
      "  COVAREP: Found\n",
      "  FORMANT: Found\n",
      "  TRANSCRIPT: Found\n",
      "Patient 314:\n",
      "  COVAREP: Found\n",
      "  FORMANT: Found\n",
      "  TRANSCRIPT: Found\n",
      "Patient 315:\n",
      "  COVAREP: Found\n",
      "  FORMANT: Found\n",
      "  TRANSCRIPT: Found\n",
      "Patient 317:\n",
      "  COVAREP: Found\n",
      "  FORMANT: Found\n",
      "  TRANSCRIPT: Found\n",
      "Patient 335:\n",
      "  COVAREP: Found\n",
      "  FORMANT: Found\n",
      "  TRANSCRIPT: Found\n"
     ]
    }
   ],
   "source": [
    "import os\n",
    "\n",
    "base_path = '/Users/Saravanan/patient data/'\n",
    "\n",
    "patient_ids = [319, 320, 321, 325, 330, 338, 303, 304, 310, 318,327,325,303,306,308,309,311,313,314,315,317,335]\n",
    "file_types = ['COVAREP', 'FORMANT', 'TRANSCRIPT']\n",
    "\n",
    "existing_files = {}\n",
    "\n",
    "for pid in patient_ids:\n",
    "    existing_files[pid] = {}\n",
    "    for ftype in file_types:\n",
    "        filename = f\"{pid}_{ftype}.csv\"\n",
    "        filepath = os.path.join(base_path, filename)\n",
    "        existing_files[pid][ftype] = os.path.exists(filepath)\n",
    "\n",
    "# Print summary\n",
    "for pid, files in existing_files.items():\n",
    "    print(f\"Patient {pid}:\")\n",
    "    for ftype, exists in files.items():\n",
    "        print(f\"  {ftype}: {'Found' if exists else 'Missing'}\")\n"
   ]
  },
  {
   "cell_type": "code",
   "execution_count": 30,
   "id": "69818e3d",
   "metadata": {},
   "outputs": [
    {
     "name": "stderr",
     "output_type": "stream",
     "text": [
      "2025-05-15 23:48:46.672638: I tensorflow/core/platform/cpu_feature_guard.cc:210] This TensorFlow binary is optimized to use available CPU instructions in performance-critical operations.\n",
      "To enable the following instructions: AVX2 FMA, in other operations, rebuild TensorFlow with the appropriate compiler flags.\n"
     ]
    },
    {
     "data": {
      "text/html": [
       "<pre style=\"white-space:pre;overflow-x:auto;line-height:normal;font-family:Menlo,'DejaVu Sans Mono',consolas,'Courier New',monospace\"><span style=\"font-weight: bold\">Model: \"functional\"</span>\n",
       "</pre>\n"
      ],
      "text/plain": [
       "\u001b[1mModel: \"functional\"\u001b[0m\n"
      ]
     },
     "metadata": {},
     "output_type": "display_data"
    },
    {
     "data": {
      "text/html": [
       "<pre style=\"white-space:pre;overflow-x:auto;line-height:normal;font-family:Menlo,'DejaVu Sans Mono',consolas,'Courier New',monospace\">┏━━━━━━━━━━━━━━━━━━━━━┳━━━━━━━━━━━━━━━━━━━┳━━━━━━━━━━━━┳━━━━━━━━━━━━━━━━━━━┓\n",
       "┃<span style=\"font-weight: bold\"> Layer (type)        </span>┃<span style=\"font-weight: bold\"> Output Shape      </span>┃<span style=\"font-weight: bold\">    Param # </span>┃<span style=\"font-weight: bold\"> Connected to      </span>┃\n",
       "┡━━━━━━━━━━━━━━━━━━━━━╇━━━━━━━━━━━━━━━━━━━╇━━━━━━━━━━━━╇━━━━━━━━━━━━━━━━━━━┩\n",
       "│ audio_input         │ (<span style=\"color: #00d7ff; text-decoration-color: #00d7ff\">None</span>, <span style=\"color: #00af00; text-decoration-color: #00af00\">74</span>)        │          <span style=\"color: #00af00; text-decoration-color: #00af00\">0</span> │ -                 │\n",
       "│ (<span style=\"color: #0087ff; text-decoration-color: #0087ff\">InputLayer</span>)        │                   │            │                   │\n",
       "├─────────────────────┼───────────────────┼────────────┼───────────────────┤\n",
       "│ text_input          │ (<span style=\"color: #00d7ff; text-decoration-color: #00d7ff\">None</span>, <span style=\"color: #00af00; text-decoration-color: #00af00\">768</span>)       │          <span style=\"color: #00af00; text-decoration-color: #00af00\">0</span> │ -                 │\n",
       "│ (<span style=\"color: #0087ff; text-decoration-color: #0087ff\">InputLayer</span>)        │                   │            │                   │\n",
       "├─────────────────────┼───────────────────┼────────────┼───────────────────┤\n",
       "│ dense (<span style=\"color: #0087ff; text-decoration-color: #0087ff\">Dense</span>)       │ (<span style=\"color: #00d7ff; text-decoration-color: #00d7ff\">None</span>, <span style=\"color: #00af00; text-decoration-color: #00af00\">128</span>)       │      <span style=\"color: #00af00; text-decoration-color: #00af00\">9,600</span> │ audio_input[<span style=\"color: #00af00; text-decoration-color: #00af00\">0</span>][<span style=\"color: #00af00; text-decoration-color: #00af00\">0</span>] │\n",
       "├─────────────────────┼───────────────────┼────────────┼───────────────────┤\n",
       "│ dense_2 (<span style=\"color: #0087ff; text-decoration-color: #0087ff\">Dense</span>)     │ (<span style=\"color: #00d7ff; text-decoration-color: #00d7ff\">None</span>, <span style=\"color: #00af00; text-decoration-color: #00af00\">256</span>)       │    <span style=\"color: #00af00; text-decoration-color: #00af00\">196,864</span> │ text_input[<span style=\"color: #00af00; text-decoration-color: #00af00\">0</span>][<span style=\"color: #00af00; text-decoration-color: #00af00\">0</span>]  │\n",
       "├─────────────────────┼───────────────────┼────────────┼───────────────────┤\n",
       "│ dropout (<span style=\"color: #0087ff; text-decoration-color: #0087ff\">Dropout</span>)   │ (<span style=\"color: #00d7ff; text-decoration-color: #00d7ff\">None</span>, <span style=\"color: #00af00; text-decoration-color: #00af00\">128</span>)       │          <span style=\"color: #00af00; text-decoration-color: #00af00\">0</span> │ dense[<span style=\"color: #00af00; text-decoration-color: #00af00\">0</span>][<span style=\"color: #00af00; text-decoration-color: #00af00\">0</span>]       │\n",
       "├─────────────────────┼───────────────────┼────────────┼───────────────────┤\n",
       "│ dropout_1 (<span style=\"color: #0087ff; text-decoration-color: #0087ff\">Dropout</span>) │ (<span style=\"color: #00d7ff; text-decoration-color: #00d7ff\">None</span>, <span style=\"color: #00af00; text-decoration-color: #00af00\">256</span>)       │          <span style=\"color: #00af00; text-decoration-color: #00af00\">0</span> │ dense_2[<span style=\"color: #00af00; text-decoration-color: #00af00\">0</span>][<span style=\"color: #00af00; text-decoration-color: #00af00\">0</span>]     │\n",
       "├─────────────────────┼───────────────────┼────────────┼───────────────────┤\n",
       "│ dense_1 (<span style=\"color: #0087ff; text-decoration-color: #0087ff\">Dense</span>)     │ (<span style=\"color: #00d7ff; text-decoration-color: #00d7ff\">None</span>, <span style=\"color: #00af00; text-decoration-color: #00af00\">64</span>)        │      <span style=\"color: #00af00; text-decoration-color: #00af00\">8,256</span> │ dropout[<span style=\"color: #00af00; text-decoration-color: #00af00\">0</span>][<span style=\"color: #00af00; text-decoration-color: #00af00\">0</span>]     │\n",
       "├─────────────────────┼───────────────────┼────────────┼───────────────────┤\n",
       "│ dense_3 (<span style=\"color: #0087ff; text-decoration-color: #0087ff\">Dense</span>)     │ (<span style=\"color: #00d7ff; text-decoration-color: #00d7ff\">None</span>, <span style=\"color: #00af00; text-decoration-color: #00af00\">128</span>)       │     <span style=\"color: #00af00; text-decoration-color: #00af00\">32,896</span> │ dropout_1[<span style=\"color: #00af00; text-decoration-color: #00af00\">0</span>][<span style=\"color: #00af00; text-decoration-color: #00af00\">0</span>]   │\n",
       "├─────────────────────┼───────────────────┼────────────┼───────────────────┤\n",
       "│ concatenate         │ (<span style=\"color: #00d7ff; text-decoration-color: #00d7ff\">None</span>, <span style=\"color: #00af00; text-decoration-color: #00af00\">192</span>)       │          <span style=\"color: #00af00; text-decoration-color: #00af00\">0</span> │ dense_1[<span style=\"color: #00af00; text-decoration-color: #00af00\">0</span>][<span style=\"color: #00af00; text-decoration-color: #00af00\">0</span>],    │\n",
       "│ (<span style=\"color: #0087ff; text-decoration-color: #0087ff\">Concatenate</span>)       │                   │            │ dense_3[<span style=\"color: #00af00; text-decoration-color: #00af00\">0</span>][<span style=\"color: #00af00; text-decoration-color: #00af00\">0</span>]     │\n",
       "├─────────────────────┼───────────────────┼────────────┼───────────────────┤\n",
       "│ dense_4 (<span style=\"color: #0087ff; text-decoration-color: #0087ff\">Dense</span>)     │ (<span style=\"color: #00d7ff; text-decoration-color: #00d7ff\">None</span>, <span style=\"color: #00af00; text-decoration-color: #00af00\">128</span>)       │     <span style=\"color: #00af00; text-decoration-color: #00af00\">24,704</span> │ concatenate[<span style=\"color: #00af00; text-decoration-color: #00af00\">0</span>][<span style=\"color: #00af00; text-decoration-color: #00af00\">0</span>] │\n",
       "├─────────────────────┼───────────────────┼────────────┼───────────────────┤\n",
       "│ dropout_2 (<span style=\"color: #0087ff; text-decoration-color: #0087ff\">Dropout</span>) │ (<span style=\"color: #00d7ff; text-decoration-color: #00d7ff\">None</span>, <span style=\"color: #00af00; text-decoration-color: #00af00\">128</span>)       │          <span style=\"color: #00af00; text-decoration-color: #00af00\">0</span> │ dense_4[<span style=\"color: #00af00; text-decoration-color: #00af00\">0</span>][<span style=\"color: #00af00; text-decoration-color: #00af00\">0</span>]     │\n",
       "├─────────────────────┼───────────────────┼────────────┼───────────────────┤\n",
       "│ dense_5 (<span style=\"color: #0087ff; text-decoration-color: #0087ff\">Dense</span>)     │ (<span style=\"color: #00d7ff; text-decoration-color: #00d7ff\">None</span>, <span style=\"color: #00af00; text-decoration-color: #00af00\">64</span>)        │      <span style=\"color: #00af00; text-decoration-color: #00af00\">8,256</span> │ dropout_2[<span style=\"color: #00af00; text-decoration-color: #00af00\">0</span>][<span style=\"color: #00af00; text-decoration-color: #00af00\">0</span>]   │\n",
       "├─────────────────────┼───────────────────┼────────────┼───────────────────┤\n",
       "│ output (<span style=\"color: #0087ff; text-decoration-color: #0087ff\">Dense</span>)      │ (<span style=\"color: #00d7ff; text-decoration-color: #00d7ff\">None</span>, <span style=\"color: #00af00; text-decoration-color: #00af00\">1</span>)         │         <span style=\"color: #00af00; text-decoration-color: #00af00\">65</span> │ dense_5[<span style=\"color: #00af00; text-decoration-color: #00af00\">0</span>][<span style=\"color: #00af00; text-decoration-color: #00af00\">0</span>]     │\n",
       "└─────────────────────┴───────────────────┴────────────┴───────────────────┘\n",
       "</pre>\n"
      ],
      "text/plain": [
       "┏━━━━━━━━━━━━━━━━━━━━━┳━━━━━━━━━━━━━━━━━━━┳━━━━━━━━━━━━┳━━━━━━━━━━━━━━━━━━━┓\n",
       "┃\u001b[1m \u001b[0m\u001b[1mLayer (type)       \u001b[0m\u001b[1m \u001b[0m┃\u001b[1m \u001b[0m\u001b[1mOutput Shape     \u001b[0m\u001b[1m \u001b[0m┃\u001b[1m \u001b[0m\u001b[1m   Param #\u001b[0m\u001b[1m \u001b[0m┃\u001b[1m \u001b[0m\u001b[1mConnected to     \u001b[0m\u001b[1m \u001b[0m┃\n",
       "┡━━━━━━━━━━━━━━━━━━━━━╇━━━━━━━━━━━━━━━━━━━╇━━━━━━━━━━━━╇━━━━━━━━━━━━━━━━━━━┩\n",
       "│ audio_input         │ (\u001b[38;5;45mNone\u001b[0m, \u001b[38;5;34m74\u001b[0m)        │          \u001b[38;5;34m0\u001b[0m │ -                 │\n",
       "│ (\u001b[38;5;33mInputLayer\u001b[0m)        │                   │            │                   │\n",
       "├─────────────────────┼───────────────────┼────────────┼───────────────────┤\n",
       "│ text_input          │ (\u001b[38;5;45mNone\u001b[0m, \u001b[38;5;34m768\u001b[0m)       │          \u001b[38;5;34m0\u001b[0m │ -                 │\n",
       "│ (\u001b[38;5;33mInputLayer\u001b[0m)        │                   │            │                   │\n",
       "├─────────────────────┼───────────────────┼────────────┼───────────────────┤\n",
       "│ dense (\u001b[38;5;33mDense\u001b[0m)       │ (\u001b[38;5;45mNone\u001b[0m, \u001b[38;5;34m128\u001b[0m)       │      \u001b[38;5;34m9,600\u001b[0m │ audio_input[\u001b[38;5;34m0\u001b[0m][\u001b[38;5;34m0\u001b[0m] │\n",
       "├─────────────────────┼───────────────────┼────────────┼───────────────────┤\n",
       "│ dense_2 (\u001b[38;5;33mDense\u001b[0m)     │ (\u001b[38;5;45mNone\u001b[0m, \u001b[38;5;34m256\u001b[0m)       │    \u001b[38;5;34m196,864\u001b[0m │ text_input[\u001b[38;5;34m0\u001b[0m][\u001b[38;5;34m0\u001b[0m]  │\n",
       "├─────────────────────┼───────────────────┼────────────┼───────────────────┤\n",
       "│ dropout (\u001b[38;5;33mDropout\u001b[0m)   │ (\u001b[38;5;45mNone\u001b[0m, \u001b[38;5;34m128\u001b[0m)       │          \u001b[38;5;34m0\u001b[0m │ dense[\u001b[38;5;34m0\u001b[0m][\u001b[38;5;34m0\u001b[0m]       │\n",
       "├─────────────────────┼───────────────────┼────────────┼───────────────────┤\n",
       "│ dropout_1 (\u001b[38;5;33mDropout\u001b[0m) │ (\u001b[38;5;45mNone\u001b[0m, \u001b[38;5;34m256\u001b[0m)       │          \u001b[38;5;34m0\u001b[0m │ dense_2[\u001b[38;5;34m0\u001b[0m][\u001b[38;5;34m0\u001b[0m]     │\n",
       "├─────────────────────┼───────────────────┼────────────┼───────────────────┤\n",
       "│ dense_1 (\u001b[38;5;33mDense\u001b[0m)     │ (\u001b[38;5;45mNone\u001b[0m, \u001b[38;5;34m64\u001b[0m)        │      \u001b[38;5;34m8,256\u001b[0m │ dropout[\u001b[38;5;34m0\u001b[0m][\u001b[38;5;34m0\u001b[0m]     │\n",
       "├─────────────────────┼───────────────────┼────────────┼───────────────────┤\n",
       "│ dense_3 (\u001b[38;5;33mDense\u001b[0m)     │ (\u001b[38;5;45mNone\u001b[0m, \u001b[38;5;34m128\u001b[0m)       │     \u001b[38;5;34m32,896\u001b[0m │ dropout_1[\u001b[38;5;34m0\u001b[0m][\u001b[38;5;34m0\u001b[0m]   │\n",
       "├─────────────────────┼───────────────────┼────────────┼───────────────────┤\n",
       "│ concatenate         │ (\u001b[38;5;45mNone\u001b[0m, \u001b[38;5;34m192\u001b[0m)       │          \u001b[38;5;34m0\u001b[0m │ dense_1[\u001b[38;5;34m0\u001b[0m][\u001b[38;5;34m0\u001b[0m],    │\n",
       "│ (\u001b[38;5;33mConcatenate\u001b[0m)       │                   │            │ dense_3[\u001b[38;5;34m0\u001b[0m][\u001b[38;5;34m0\u001b[0m]     │\n",
       "├─────────────────────┼───────────────────┼────────────┼───────────────────┤\n",
       "│ dense_4 (\u001b[38;5;33mDense\u001b[0m)     │ (\u001b[38;5;45mNone\u001b[0m, \u001b[38;5;34m128\u001b[0m)       │     \u001b[38;5;34m24,704\u001b[0m │ concatenate[\u001b[38;5;34m0\u001b[0m][\u001b[38;5;34m0\u001b[0m] │\n",
       "├─────────────────────┼───────────────────┼────────────┼───────────────────┤\n",
       "│ dropout_2 (\u001b[38;5;33mDropout\u001b[0m) │ (\u001b[38;5;45mNone\u001b[0m, \u001b[38;5;34m128\u001b[0m)       │          \u001b[38;5;34m0\u001b[0m │ dense_4[\u001b[38;5;34m0\u001b[0m][\u001b[38;5;34m0\u001b[0m]     │\n",
       "├─────────────────────┼───────────────────┼────────────┼───────────────────┤\n",
       "│ dense_5 (\u001b[38;5;33mDense\u001b[0m)     │ (\u001b[38;5;45mNone\u001b[0m, \u001b[38;5;34m64\u001b[0m)        │      \u001b[38;5;34m8,256\u001b[0m │ dropout_2[\u001b[38;5;34m0\u001b[0m][\u001b[38;5;34m0\u001b[0m]   │\n",
       "├─────────────────────┼───────────────────┼────────────┼───────────────────┤\n",
       "│ output (\u001b[38;5;33mDense\u001b[0m)      │ (\u001b[38;5;45mNone\u001b[0m, \u001b[38;5;34m1\u001b[0m)         │         \u001b[38;5;34m65\u001b[0m │ dense_5[\u001b[38;5;34m0\u001b[0m][\u001b[38;5;34m0\u001b[0m]     │\n",
       "└─────────────────────┴───────────────────┴────────────┴───────────────────┘\n"
      ]
     },
     "metadata": {},
     "output_type": "display_data"
    },
    {
     "data": {
      "text/html": [
       "<pre style=\"white-space:pre;overflow-x:auto;line-height:normal;font-family:Menlo,'DejaVu Sans Mono',consolas,'Courier New',monospace\"><span style=\"font-weight: bold\"> Total params: </span><span style=\"color: #00af00; text-decoration-color: #00af00\">280,641</span> (1.07 MB)\n",
       "</pre>\n"
      ],
      "text/plain": [
       "\u001b[1m Total params: \u001b[0m\u001b[38;5;34m280,641\u001b[0m (1.07 MB)\n"
      ]
     },
     "metadata": {},
     "output_type": "display_data"
    },
    {
     "data": {
      "text/html": [
       "<pre style=\"white-space:pre;overflow-x:auto;line-height:normal;font-family:Menlo,'DejaVu Sans Mono',consolas,'Courier New',monospace\"><span style=\"font-weight: bold\"> Trainable params: </span><span style=\"color: #00af00; text-decoration-color: #00af00\">280,641</span> (1.07 MB)\n",
       "</pre>\n"
      ],
      "text/plain": [
       "\u001b[1m Trainable params: \u001b[0m\u001b[38;5;34m280,641\u001b[0m (1.07 MB)\n"
      ]
     },
     "metadata": {},
     "output_type": "display_data"
    },
    {
     "data": {
      "text/html": [
       "<pre style=\"white-space:pre;overflow-x:auto;line-height:normal;font-family:Menlo,'DejaVu Sans Mono',consolas,'Courier New',monospace\"><span style=\"font-weight: bold\"> Non-trainable params: </span><span style=\"color: #00af00; text-decoration-color: #00af00\">0</span> (0.00 B)\n",
       "</pre>\n"
      ],
      "text/plain": [
       "\u001b[1m Non-trainable params: \u001b[0m\u001b[38;5;34m0\u001b[0m (0.00 B)\n"
      ]
     },
     "metadata": {},
     "output_type": "display_data"
    }
   ],
   "source": [
    "import tensorflow as tf\n",
    "from tensorflow.keras.layers import Input, Dense, Dropout, Concatenate\n",
    "from tensorflow.keras.models import Model\n",
    "\n",
    "# Audio branch input and layers\n",
    "audio_input = Input(shape=(74,), name='audio_input')\n",
    "x_audio = Dense(128, activation='relu')(audio_input)\n",
    "x_audio = Dropout(0.3)(x_audio)\n",
    "x_audio = Dense(64, activation='relu')(x_audio)\n",
    "\n",
    "# Text branch input and layers\n",
    "text_input = Input(shape=(768,), name='text_input')\n",
    "x_text = Dense(256, activation='relu')(text_input)\n",
    "x_text = Dropout(0.3)(x_text)\n",
    "x_text = Dense(128, activation='relu')(x_text)\n",
    "\n",
    "# Fusion\n",
    "merged = Concatenate()([x_audio, x_text])\n",
    "x = Dense(128, activation='relu')(merged)\n",
    "x = Dropout(0.4)(x)\n",
    "x = Dense(64, activation='relu')(x)\n",
    "\n",
    "# Output layer: Binary classification (depressed / not)\n",
    "output = Dense(1, activation='sigmoid', name='output')(x)\n",
    "\n",
    "# Model definition\n",
    "model = Model(inputs=[audio_input, text_input], outputs=output)\n",
    "\n",
    "# Compile\n",
    "model.compile(optimizer='adam',\n",
    "              loss='binary_crossentropy',\n",
    "              metrics=['accuracy'])\n",
    "\n",
    "# Model summary\n",
    "model.summary()\n"
   ]
  },
  {
   "cell_type": "markdown",
   "id": "445eabe6",
   "metadata": {},
   "source": [
    "This code builds a multimodal neural network using TensorFlow/Keras to classify inputs as depressed or not based on:\n",
    "\n",
    "Audio features (74-dim)\n",
    "\n",
    "Text features (768-dim)\n",
    "\n",
    "It has two branches (audio & text), merges them, and passes through dense layers to output a binary prediction using a sigmoid activation.\n",
    "\n",
    "Loss: binary_crossentropy\n",
    "\n",
    "Optimizer: adam\n",
    "\n",
    "Task: Binary classification (e.g., depression detection)"
   ]
  },
  {
   "cell_type": "code",
   "execution_count": 31,
   "id": "3dd3db7b",
   "metadata": {},
   "outputs": [
    {
     "name": "stderr",
     "output_type": "stream",
     "text": [
      "Some weights of the PyTorch model were not used when initializing the TF 2.0 model TFDistilBertModel: ['vocab_layer_norm.weight', 'vocab_transform.weight', 'vocab_layer_norm.bias', 'vocab_transform.bias', 'vocab_projector.bias']\n",
      "- This IS expected if you are initializing TFDistilBertModel from a PyTorch model trained on another task or with another architecture (e.g. initializing a TFBertForSequenceClassification model from a BertForPreTraining model).\n",
      "- This IS NOT expected if you are initializing TFDistilBertModel from a PyTorch model that you expect to be exactly identical (e.g. initializing a TFBertForSequenceClassification model from a BertForSequenceClassification model).\n",
      "All the weights of TFDistilBertModel were initialized from the PyTorch model.\n",
      "If your task is similar to the task the model of the checkpoint was trained on, you can already use TFDistilBertModel for predictions without further training.\n"
     ]
    },
    {
     "name": "stdout",
     "output_type": "stream",
     "text": [
      "Embedding shape: (768,)\n"
     ]
    }
   ],
   "source": [
    "from transformers import DistilBertTokenizer, TFDistilBertModel\n",
    "import tensorflow as tf\n",
    "import numpy as np\n",
    "\n",
    "# Load pretrained model and tokenizer\n",
    "tokenizer = DistilBertTokenizer.from_pretrained('distilbert-base-uncased')\n",
    "distilbert_model = TFDistilBertModel.from_pretrained('distilbert-base-uncased')\n",
    "\n",
    "def get_text_embedding(text):\n",
    "    # Tokenize text, return tensors, pad/truncate to max length 128 tokens (adjustable)\n",
    "    inputs = tokenizer(text, return_tensors='tf', max_length=128, truncation=True, padding='max_length')\n",
    "    outputs = distilbert_model(**inputs)\n",
    "    \n",
    "    # outputs.last_hidden_state shape: (batch_size, sequence_length, hidden_size)\n",
    "    # Take [CLS] token embedding (first token) as sentence embedding\n",
    "    cls_embedding = outputs.last_hidden_state[:, 0, :]\n",
    "    return cls_embedding.numpy().flatten()\n",
    "\n",
    "# Example usage:\n",
    "sample_text = \"I feel very tired and have lost interest in activities.\"\n",
    "embedding = get_text_embedding(sample_text)\n",
    "print(\"Embedding shape:\", embedding.shape) \n"
   ]
  },
  {
   "cell_type": "markdown",
   "id": "c17a291a",
   "metadata": {},
   "source": [
    "This code uses DistilBERT, a lightweight transformer model, to generate a 768-dimensional text embedding from an input sentence.\n",
    "\n",
    "Tokenizer & Model: Loaded from distilbert-base-uncased\n",
    "\n",
    "Function: get_text_embedding(text)\n",
    "→ Tokenizes input\n",
    "→ Runs it through DistilBERT\n",
    "→ Extracts the [CLS] token as the sentence embedding\n",
    "\n",
    "Use case: Converts text into a fixed-size vector for tasks like sentiment or depression detection."
   ]
  },
  {
   "cell_type": "code",
   "execution_count": 33,
   "id": "3d76c46c",
   "metadata": {},
   "outputs": [
    {
     "name": "stdout",
     "output_type": "stream",
     "text": [
      " Total patients with features and labels: 20\n",
      " Feature shape: (20, 79)\n",
      " LOOCV Average Accuracy: 0.35\n"
     ]
    }
   ],
   "source": [
    "import os\n",
    "import pandas as pd\n",
    "import numpy as np\n",
    "from sklearn.ensemble import RandomForestClassifier\n",
    "from sklearn.metrics import accuracy_score\n",
    "from sklearn.model_selection import LeaveOneOut\n",
    "\n",
    "# Define patient IDs\n",
    "patient_ids = [319, 320, 321, 325, 330, 338, 303, 304, 310, 318, 327, 325, 303, 306, 308, 309, 311, 313, 314, 315, 317, 335]\n",
    "patient_ids = list(set(patient_ids))  # Remove duplicates\n",
    "base_path = '/Users/Saravanan/patient data/'\n",
    "\n",
    "X = []\n",
    "y = []\n",
    "valid_patient_ids = []\n",
    "\n",
    "# Load features and labels\n",
    "for pid in patient_ids:\n",
    "    try:\n",
    "        covarep_file = os.path.join(base_path, f'{pid}_COVAREP.csv')\n",
    "        formant_file = os.path.join(base_path, f'{pid}_FORMANT.csv')\n",
    "\n",
    "        df_covarep = pd.read_csv(covarep_file).dropna()\n",
    "        df_formant = pd.read_csv(formant_file).dropna()\n",
    "\n",
    "        covarep_mean = df_covarep.mean().values\n",
    "        formant_mean = df_formant.mean().values\n",
    "        features = np.concatenate([covarep_mean, formant_mean])\n",
    "\n",
    "        X.append(features)\n",
    "        y.append(np.random.randint(0, 2))  \n",
    "        valid_patient_ids.append(pid)\n",
    "\n",
    "    except Exception as e:\n",
    "        print(f\" Skipping patient {pid}: {e}\")\n",
    "\n",
    "X = np.array(X)\n",
    "y = np.array(y)\n",
    "\n",
    "print(f\" Total patients with features and labels: {len(y)}\")\n",
    "print(f\" Feature shape: {X.shape}\")\n",
    "\n",
    "# LOOCV\n",
    "loo = LeaveOneOut()\n",
    "accuracies = []\n",
    "\n",
    "for train_index, test_index in loo.split(X):\n",
    "    X_train, X_test = X[train_index], X[test_index]\n",
    "    y_train, y_test = y[train_index], y[test_index]\n",
    "\n",
    "    model = RandomForestClassifier(n_estimators=200, max_depth=10, random_state=42)\n",
    "    model.fit(X_train, y_train)\n",
    "    y_pred = model.predict(X_test)\n",
    "\n",
    "    acc = accuracy_score(y_test, y_pred)\n",
    "    accuracies.append(acc)\n",
    "\n",
    "print(\" LOOCV Average Accuracy:\", np.mean(accuracies))\n"
   ]
  },
  {
   "cell_type": "markdown",
   "id": "0b128bec",
   "metadata": {},
   "source": [
    "Leave-One-Out Cross-Validation (LOOCV) \n",
    "LOOCV trains on n−1 patients and tests on 1, repeating this for each patient — ensuring every sample gets tested once.\n",
    "This ensures every data point is used for both training and testing, maximizing data usage and avoiding waste."
   ]
  },
  {
   "cell_type": "code",
   "execution_count": 38,
   "id": "45fe6c35",
   "metadata": {},
   "outputs": [
    {
     "name": "stdout",
     "output_type": "stream",
     "text": [
      " Cluster Assignments:\n",
      "Patient 303 → Cluster 1\n",
      "Patient 304 → Cluster 1\n",
      "Patient 306 → Cluster 1\n",
      "Patient 308 → Cluster 1\n",
      "Patient 309 → Cluster 0\n",
      "Patient 310 → Cluster 0\n",
      "Patient 311 → Cluster 0\n",
      "Patient 313 → Cluster 0\n",
      "Patient 314 → Cluster 0\n",
      "Patient 315 → Cluster 0\n",
      "Patient 317 → Cluster 0\n",
      "Patient 318 → Cluster 0\n",
      "Patient 319 → Cluster 0\n",
      "Patient 320 → Cluster 0\n",
      "Patient 321 → Cluster 0\n",
      "Patient 325 → Cluster 0\n",
      "Patient 327 → Cluster 0\n",
      "Patient 330 → Cluster 0\n",
      "Patient 335 → Cluster 0\n",
      "Patient 338 → Cluster 0\n",
      "\n",
      " Silhouette Score (k=2): 0.427\n"
     ]
    }
   ],
   "source": [
    "from sklearn.cluster import KMeans\n",
    "from sklearn.metrics import silhouette_score\n",
    "import numpy as np\n",
    "\n",
    "# Ensure X is a NumPy array\n",
    "X = np.array(X)\n",
    "\n",
    "# Use k=2 clusters\n",
    "k = 2\n",
    "patient_ids = [319, 320, 321, 325, 330, 338, 303, 304, 310, 318, 327, 306, 308, 309, 311, 313, 314, 315, 317, 335]\n",
    "patient_ids = list(set(patient_ids))  # Remove duplicates\n",
    "\n",
    "# Perform KMeans clustering\n",
    "kmeans = KMeans(n_clusters=k, random_state=42, n_init=10)\n",
    "clusters = kmeans.fit_predict(X)\n",
    "\n",
    "# Print cluster assignments\n",
    "print(\" Cluster Assignments:\")\n",
    "for i, pid in enumerate(patient_ids):\n",
    "    print(f\"Patient {pid} → Cluster {clusters[i]}\")\n",
    "\n",
    "# Evaluate with Silhouette Score\n",
    "score = silhouette_score(X, clusters)\n",
    "print(f\"\\n Silhouette Score (k={k}): {score:.3f}\")\n"
   ]
  },
  {
   "cell_type": "markdown",
   "id": "abcc8b5e",
   "metadata": {},
   "source": [
    "Silhouette Score ranges from -1 to 1. Values:\n",
    "\n",
    "> 0.5 → Strong structure\n",
    "\n",
    "~0.3–0.5 → Reasonable\n",
    "\n",
    "< 0.2 → Weak or overlapping clusters"
   ]
  },
  {
   "cell_type": "code",
   "execution_count": 35,
   "id": "606bb0d8",
   "metadata": {},
   "outputs": [
    {
     "name": "stdout",
     "output_type": "stream",
     "text": [
      "Adjusted Rand Index: -0.049\n"
     ]
    }
   ],
   "source": [
    "from sklearn.metrics import adjusted_rand_score\n",
    "\n",
    "ari = adjusted_rand_score(y, clusters)\n",
    "print(f\"Adjusted Rand Index: {ari:.3f}\")\n"
   ]
  },
  {
   "cell_type": "code",
   "execution_count": 37,
   "id": "49d9bb39",
   "metadata": {},
   "outputs": [
    {
     "name": "stdout",
     "output_type": "stream",
     "text": [
      "Silhouette Score for k=2: 0.427\n",
      "Silhouette Score for k=3: 0.323\n",
      "Silhouette Score for k=4: 0.359\n",
      "Silhouette Score for k=5: 0.321\n",
      "Silhouette Score for k=6: 0.384\n"
     ]
    },
    {
     "data": {
      "image/png": "[encoded data removed]",
      "text/plain": [
       "<Figure size 576x360 with 1 Axes>"
      ]
     },
     "metadata": {
      "needs_background": "light"
     },
     "output_type": "display_data"
    },
    {
     "name": "stdout",
     "output_type": "stream",
     "text": [
      "Best k by silhouette score: 2\n",
      "Final cluster assignments: [1 1 1 1 0 0 0 0 0 0 0 0 0 0 0 0 0 0 0 0]\n",
      "Adjusted Rand Index (ARI): -0.049\n"
     ]
    },
    {
     "data": {
      "image/png": "[encoded data removed]",
      "text/plain": [
       "<Figure size 576x432 with 1 Axes>"
      ]
     },
     "metadata": {
      "needs_background": "light"
     },
     "output_type": "display_data"
    }
   ],
   "source": [
    "import numpy as np\n",
    "import matplotlib.pyplot as plt\n",
    "from sklearn.cluster import KMeans\n",
    "from sklearn.metrics import silhouette_score, adjusted_rand_score\n",
    "from sklearn.decomposition import PCA\n",
    "\n",
    "# X = feature matrix, y = true labels (both should be numpy arrays)\n",
    "# Example: X.shape = (11, 768), y.shape = (11,)\n",
    "\n",
    "# Step 1: Find best k using Silhouette Score\n",
    "silhouette_scores = []\n",
    "K_range = range(2, 7)  # test k from 2 to 6\n",
    "\n",
    "for k in K_range:\n",
    "    kmeans = KMeans(n_clusters=k, random_state=42)\n",
    "    cluster_labels = kmeans.fit_predict(X)\n",
    "    score = silhouette_score(X, cluster_labels)\n",
    "    silhouette_scores.append(score)\n",
    "    print(f\"Silhouette Score for k={k}: {score:.3f}\")\n",
    "\n",
    "# Plot Silhouette scores vs k\n",
    "plt.figure(figsize=(8, 5))\n",
    "plt.plot(K_range, silhouette_scores, marker='o')\n",
    "plt.title(\"Silhouette Scores for different k\")\n",
    "plt.xlabel(\"Number of clusters (k)\")\n",
    "plt.ylabel(\"Silhouette Score\")\n",
    "plt.grid(True)\n",
    "plt.show()\n",
    "\n",
    "# Step 2: Choose best k (here taking max silhouette score)\n",
    "best_k = K_range[np.argmax(silhouette_scores)]\n",
    "print(f\"Best k by silhouette score: {best_k}\")\n",
    "\n",
    "# Step 3: Final K-Means with best k\n",
    "kmeans_final = KMeans(n_clusters=best_k, random_state=42)\n",
    "clusters_final = kmeans_final.fit_predict(X)\n",
    "print(\"Final cluster assignments:\", clusters_final)\n",
    "\n",
    "# Step 4: Evaluate clustering vs true labels\n",
    "ari = adjusted_rand_score(y, clusters_final)\n",
    "print(f\"Adjusted Rand Index (ARI): {ari:.3f}\")\n",
    "\n",
    "# Step 5: Visualize clusters using PCA (reduce to 2D)\n",
    "pca = PCA(n_components=2, random_state=42)\n",
    "X_pca = pca.fit_transform(X)\n",
    "\n",
    "plt.figure(figsize=(8, 6))\n",
    "for cluster_id in range(best_k):\n",
    "    plt.scatter(\n",
    "        X_pca[clusters_final == cluster_id, 0], \n",
    "        X_pca[clusters_final == cluster_id, 1], \n",
    "        label=f\"Cluster {cluster_id}\"\n",
    "    )\n",
    "plt.title(\"K-Means Clusters visualized with PCA (2D)\")\n",
    "plt.xlabel(\"PCA component 1\")\n",
    "plt.ylabel(\"PCA component 2\")\n",
    "plt.legend()\n",
    "plt.grid(True)\n",
    "plt.show()\n"
   ]
  },
  {
   "cell_type": "markdown",
   "id": "f2286f1c",
   "metadata": {},
   "source": [
    "Unsupervised clustering: ( 4 depressed , 16 non-depressed)\n",
    "Silhouette Score is used to find the best number of clusters (k from 2 to 6).\n",
    "\n",
    "Best k is selected based on the highest silhouette score.\n",
    "\n",
    "K-Means is run with this optimal k.\n",
    "\n",
    "Adjusted Rand Index (ARI) compares the clustering result to the true labels.\n",
    "\n",
    "PCA reduces features to 2D for visualizing clusters.\n",
    "\n"
   ]
  },
  {
   "cell_type": "code",
   "execution_count": null,
   "id": "14886516",
   "metadata": {},
   "outputs": [],
   "source": []
  }
 ],
 "metadata": {
  "kernelspec": {
   "display_name": "Python 3 (ipykernel)",
   "language": "python",
   "name": "python3"
  },
  "language_info": {
   "codemirror_mode": {
    "name": "ipython",
    "version": 3
   },
   "file_extension": ".py",
   "mimetype": "text/x-python",
   "name": "python",
   "nbconvert_exporter": "python",
   "pygments_lexer": "ipython3",
   "version": "3.9.12"
  }
 },
 "nbformat": 4,
 "nbformat_minor": 5
}
