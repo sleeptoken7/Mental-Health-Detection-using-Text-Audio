{
 "cells": [
  {
   "cell_type": "code",
   "execution_count": 1,
   "id": "cabbf7bb",
   "metadata": {},
   "outputs": [],
   "source": [
    "base_path = '/Users/Saravanan/patient data/'  \n"
   ]
  },
  {
   "cell_type": "code",
   "execution_count": 6,
   "id": "15dcd681",
   "metadata": {},
   "outputs": [
    {
     "name": "stdout",
     "output_type": "stream",
     "text": [
      "Files in directory:\n",
      "318_TRANSCRIPT.csv\n",
      "304_COVAREP.csv\n",
      "318_COVAREP.csv\n",
      "310_TRANSCRIPT.csv\n",
      "310_FORMANT.csv\n",
      "319_FORMANT.csv\n",
      "dev_split_Depression_AVEC2017.csv\n",
      "303_TRANSCRIPT.csv\n",
      "304_TRANSCRIPT.csv\n",
      "327_FORMANT.csv\n",
      "357_FORMANT.csv\n",
      "319_TRANSCRIPT.csv\n",
      "Untitled.ipynb\n",
      "338_FORMANT.csv\n",
      "330_COVAREP.csv\n",
      "331_FORMANT.csv\n",
      "325_COVAREP.csv\n",
      "train_split_Depression_AVEC2017.csv\n",
      "303_FORMANT.csv\n",
      "full_test_split.csv\n",
      "320_COVAREP.csv\n",
      "321_FORMANT.csv\n",
      "329_COVAREP.csv\n",
      "test_split_Depression_AVEC2017.csv\n",
      "357_TRANSCRIPT.csv\n",
      "357_COVAREP.csv\n",
      "321_TRANSCRIPT.csv\n",
      "327_COVAREP.csv\n",
      "310_COVAREP.csv\n",
      "318_FORMANT.csv\n",
      "320_TRANSCRIPT.csv\n",
      "304_FORMANT.csv\n",
      "319_COVAREP.csv\n",
      "327_TRANSCRIPT.csv\n",
      "320_FORMANT.csv\n",
      "330_TRANSCRIPT.csv\n",
      "325_TRANSCRIPT.csv\n",
      ".ipynb_checkpoints\n",
      "338_TRANSCRIPT.csv\n",
      "329_FORMANT.csv\n",
      "321_COVAREP.csv\n",
      "330_FORMANT.csv\n",
      "338_COVAREP.csv\n",
      "303_COVAREP.csv\n",
      "325_FORMANT.csv\n",
      "331_TRANSCRIPT.csv\n",
      "331_COVAREP.csv\n"
     ]
    }
   ],
   "source": [
    "import os\n",
    "\n",
    "# Set base path to the directory containing patient files\n",
    "base_path = '/Users/Saravanan/patient data/'\n",
    "\n",
    "# List all files in the directory\n",
    "print(\"Files in directory:\")\n",
    "for file in os.listdir(base_path):\n",
    "    print(file)\n"
   ]
  },
  {
   "cell_type": "code",
   "execution_count": 7,
   "id": "27917e9a",
   "metadata": {},
   "outputs": [
    {
     "name": "stdout",
     "output_type": "stream",
     "text": [
      "Loaded data for patient 318\n",
      "Loaded data for patient 331\n",
      "Loaded data for patient 357\n"
     ]
    }
   ],
   "source": [
    "import pandas as pd\n",
    "import os\n",
    "\n",
    "# Base path to your patient data folder\n",
    "base_path = '/Users/Saravanan/patient data/'\n",
    "\n",
    "# List of patient IDs you want to load\n",
    "patient_ids = ['318', '331', '357']\n",
    "\n",
    "# Dictionary to hold data for each patient separately\n",
    "patient_data = {}\n",
    "\n",
    "for pid in patient_ids:\n",
    "    try:\n",
    "        covarep_file = os.path.join(base_path, f'{pid}_COVAREP.csv')\n",
    "        formant_file = os.path.join(base_path, f'{pid}_FORMANT.csv')\n",
    "        transcript_file = os.path.join(base_path, f'{pid}_TRANSCRIPT.csv')\n",
    "\n",
    "        df_covarep = pd.read_csv(covarep_file)\n",
    "        df_formant = pd.read_csv(formant_file)\n",
    "        df_transcript = pd.read_csv(transcript_file, sep='\\t', header=None)\n",
    "\n",
    "        # Store each patient's data as a dictionary\n",
    "        patient_data[pid] = {\n",
    "            'COVAREP': df_covarep,\n",
    "            'FORMANT': df_formant,\n",
    "            'TRANSCRIPT': df_transcript\n",
    "        }\n",
    "\n",
    "        print(f\"Loaded data for patient {pid}\")\n",
    "\n",
    "    except Exception as e:\n",
    "        print(f\"Error loading data for patient {pid}: {e}\")\n"
   ]
  },
  {
   "cell_type": "code",
   "execution_count": 8,
   "id": "3c453acf",
   "metadata": {
    "scrolled": true
   },
   "outputs": [
    {
     "name": "stdout",
     "output_type": "stream",
     "text": [
      "\n",
      "Columns in COVAREP file for patient 318:\n",
      "['0', '0.1', '0.2', '0.3', '0.4', '0.5', '0.6', '0.7', '0.8', '0.9', '0.10', '-11.775', '1.7688', '0.69586', '0.54806', '0.16832', '0.34717', '0.1953', '0.13883', '0.063442', '0.14562', '0.14221', '0.12138', '0.077443', '-0.020608', '-0.08613', '0.0050058', '0.11018', '0.081392', '0.0015804', '-0.052189', '-0.10872', '-0.055961', '0.023782', '0.13418', '-0.011934', '0.11', '0.12', '0.13', '0.14', '0.15', '0.16', '0.17', '0.18', '0.19', '0.20', '0.21', '0.22', '0.23', '0.24', '0.25', '0.26', '0.27', '0.28', '0.29', '0.30', '0.31', '0.32', '0.33', '0.34', '0.35', '0.36', '0.37', '0.38', '0.39', '0.40', '0.41', '0.42', '0.43', '0.44', '0.45', '0.46', '0.47', '0.48']\n",
      "\n",
      "Columns in COVAREP file for patient 331:\n",
      "['0', '0.1', '0.2', '0.3', '0.4', '0.5', '0.6', '0.7', '0.8', '0.9', '0.10', '-11.77', '1.5532', '0.40659', '0.42698', '0.28121', '0.34516', '0.28466', '0.36227', '0.27977', '0.18105', '0.075733', '0.085972', '0.023151', '0.15264', '0.040617', '-0.041712', '0.030879', '0.12983', '0.054926', '-0.032332', '-0.012233', '-0.00022221', '0.020142', '-0.034252', '0.0047588', '0.11', '0.12', '0.13', '0.14', '0.15', '0.16', '0.17', '0.18', '0.19', '0.20', '0.21', '0.22', '0.23', '0.24', '0.25', '0.26', '0.27', '0.28', '0.29', '0.30', '0.31', '0.32', '0.33', '0.34', '0.35', '0.36', '0.37', '0.38', '0.39', '0.40', '0.41', '0.42', '0.43', '0.44', '0.45', '0.46', '0.47', '0.48']\n",
      "\n",
      "Columns in COVAREP file for patient 357:\n",
      "['0', '0.1', '0.2', '0.3', '0.4', '0.5', '0.6', '0.7', '0.8', '0.9', '0.10', '-11.694', '1.7748', '0.49173', '0.43046', '0.21423', '0.30435', '0.088867', '0.25276', '0.17262', '0.27411', '0.19841', '0.028011', '0.072687', '0.15994', '0.10904', '-0.037816', '0.044966', '0.048113', '0.035987', '0.036206', '-0.050876', '0.033902', '0.0040198', '-0.065422', '-0.075505', '0.11', '0.12', '0.13', '0.14', '0.15', '0.16', '0.17', '0.18', '0.19', '0.20', '0.21', '0.22', '0.23', '0.24', '0.25', '0.26', '0.27', '0.28', '0.29', '0.30', '0.31', '0.32', '0.33', '0.34', '0.35', '0.36', '0.37', '0.38', '0.39', '0.40', '0.41', '0.42', '0.43', '0.44', '0.45', '0.46', '0.47', '0.48']\n"
     ]
    }
   ],
   "source": [
    "for pid in patient_ids:\n",
    "    print(f\"\\nColumns in COVAREP file for patient {pid}:\")\n",
    "    print(patient_data[pid]['COVAREP'].columns.tolist())\n"
   ]
  },
  {
   "cell_type": "code",
   "execution_count": 9,
   "id": "a7ca8eeb",
   "metadata": {},
   "outputs": [
    {
     "name": "stdout",
     "output_type": "stream",
     "text": [
      "✅ Loaded data for patient 318\n",
      "✅ Loaded data for patient 331\n",
      "✅ Loaded data for patient 357\n"
     ]
    }
   ],
   "source": [
    "import os\n",
    "import pandas as pd\n",
    "\n",
    "base_path = '/Users/Saravanan/patient data/'\n",
    "\n",
    "patient_ids = ['318', '331', '357']\n",
    "patient_data = {}\n",
    "\n",
    "for pid in patient_ids:\n",
    "    try:\n",
    "        covarep_path = os.path.join(base_path, f\"{pid}_COVAREP.csv\")\n",
    "        formant_path = os.path.join(base_path, f\"{pid}_FORMANT.csv\")\n",
    "        transcript_path = os.path.join(base_path, f\"{pid}_TRANSCRIPT.csv\")\n",
    "\n",
    "        # Load CSVs with header=None\n",
    "        covarep_df = pd.read_csv(covarep_path, header=None)\n",
    "        formant_df = pd.read_csv(formant_path, header=None)\n",
    "        transcript_df = pd.read_csv(transcript_path)\n",
    "\n",
    "        patient_data[pid] = {\n",
    "            'COVAREP': covarep_df,\n",
    "            'FORMANT': formant_df,\n",
    "            'TRANSCRIPT': transcript_df\n",
    "        }\n",
    "\n",
    "        print(f\"✅ Loaded data for patient {pid}\")\n",
    "    except Exception as e:\n",
    "        print(f\"❌ Error loading patient {pid}: {e}\")\n"
   ]
  },
  {
   "cell_type": "code",
   "execution_count": 10,
   "id": "3b8a7572",
   "metadata": {},
   "outputs": [
    {
     "name": "stdout",
     "output_type": "stream",
     "text": [
      "✅ Preprocessed patient 318\n",
      "✅ Preprocessed patient 331\n",
      "✅ Preprocessed patient 357\n"
     ]
    }
   ],
   "source": [
    "processed_dfs = []\n",
    "\n",
    "for pid in patient_ids:\n",
    "    try:\n",
    "        covarep_df = patient_data[pid]['COVAREP']\n",
    "        formant_df = patient_data[pid]['FORMANT']\n",
    "\n",
    "        # Add frame indices as a time reference\n",
    "        covarep_df['frame'] = range(len(covarep_df))\n",
    "        formant_df['frame'] = range(len(formant_df))\n",
    "\n",
    "        # Merge COVAREP and FORMANT on frame number\n",
    "        merged_df = pd.merge(covarep_df, formant_df, on='frame', suffixes=('_covarep', '_formant'))\n",
    "\n",
    "        # Add patient ID for later labeling\n",
    "        merged_df['patient_id'] = pid\n",
    "\n",
    "        processed_dfs.append(merged_df)\n",
    "        print(f\"✅ Preprocessed patient {pid}\")\n",
    "\n",
    "    except Exception as e:\n",
    "        print(f\"❌ Error preprocessing patient {pid}: {e}\")\n"
   ]
  },
  {
   "cell_type": "code",
   "execution_count": 11,
   "id": "c2f6dc89",
   "metadata": {},
   "outputs": [
    {
     "name": "stdout",
     "output_type": "stream",
     "text": [
      "✅ Combined dataset shape: (185389, 81)\n"
     ]
    },
    {
     "data": {
      "text/html": [
       "<div>\n",
       "<style scoped>\n",
       "    .dataframe tbody tr th:only-of-type {\n",
       "        vertical-align: middle;\n",
       "    }\n",
       "\n",
       "    .dataframe tbody tr th {\n",
       "        vertical-align: top;\n",
       "    }\n",
       "\n",
       "    .dataframe thead th {\n",
       "        text-align: right;\n",
       "    }\n",
       "</style>\n",
       "<table border=\"1\" class=\"dataframe\">\n",
       "  <thead>\n",
       "    <tr style=\"text-align: right;\">\n",
       "      <th></th>\n",
       "      <th>0_covarep</th>\n",
       "      <th>1_covarep</th>\n",
       "      <th>2_covarep</th>\n",
       "      <th>3_covarep</th>\n",
       "      <th>4_covarep</th>\n",
       "      <th>5</th>\n",
       "      <th>6</th>\n",
       "      <th>7</th>\n",
       "      <th>8</th>\n",
       "      <th>9</th>\n",
       "      <th>...</th>\n",
       "      <th>71</th>\n",
       "      <th>72</th>\n",
       "      <th>73</th>\n",
       "      <th>frame</th>\n",
       "      <th>0_formant</th>\n",
       "      <th>1_formant</th>\n",
       "      <th>2_formant</th>\n",
       "      <th>3_formant</th>\n",
       "      <th>4_formant</th>\n",
       "      <th>patient_id</th>\n",
       "    </tr>\n",
       "  </thead>\n",
       "  <tbody>\n",
       "    <tr>\n",
       "      <th>0</th>\n",
       "      <td>0.0</td>\n",
       "      <td>0</td>\n",
       "      <td>0.0</td>\n",
       "      <td>0.0</td>\n",
       "      <td>0.0</td>\n",
       "      <td>0.0</td>\n",
       "      <td>0.0</td>\n",
       "      <td>0.00000</td>\n",
       "      <td>0.0</td>\n",
       "      <td>0.0</td>\n",
       "      <td>...</td>\n",
       "      <td>0.0</td>\n",
       "      <td>0.0</td>\n",
       "      <td>0.0</td>\n",
       "      <td>0</td>\n",
       "      <td>818.07</td>\n",
       "      <td>1799.0</td>\n",
       "      <td>2622.4</td>\n",
       "      <td>3508.4</td>\n",
       "      <td>4171.6</td>\n",
       "      <td>318</td>\n",
       "    </tr>\n",
       "    <tr>\n",
       "      <th>1</th>\n",
       "      <td>0.0</td>\n",
       "      <td>0</td>\n",
       "      <td>0.0</td>\n",
       "      <td>0.0</td>\n",
       "      <td>0.0</td>\n",
       "      <td>0.0</td>\n",
       "      <td>0.0</td>\n",
       "      <td>0.00000</td>\n",
       "      <td>0.0</td>\n",
       "      <td>0.0</td>\n",
       "      <td>...</td>\n",
       "      <td>0.0</td>\n",
       "      <td>0.0</td>\n",
       "      <td>0.0</td>\n",
       "      <td>1</td>\n",
       "      <td>675.59</td>\n",
       "      <td>1625.1</td>\n",
       "      <td>2620.0</td>\n",
       "      <td>3510.4</td>\n",
       "      <td>4388.1</td>\n",
       "      <td>318</td>\n",
       "    </tr>\n",
       "    <tr>\n",
       "      <th>2</th>\n",
       "      <td>0.0</td>\n",
       "      <td>0</td>\n",
       "      <td>0.0</td>\n",
       "      <td>0.0</td>\n",
       "      <td>0.0</td>\n",
       "      <td>0.0</td>\n",
       "      <td>0.0</td>\n",
       "      <td>-0.37861</td>\n",
       "      <td>0.0</td>\n",
       "      <td>0.0</td>\n",
       "      <td>...</td>\n",
       "      <td>0.0</td>\n",
       "      <td>0.0</td>\n",
       "      <td>0.0</td>\n",
       "      <td>2</td>\n",
       "      <td>849.31</td>\n",
       "      <td>1829.5</td>\n",
       "      <td>3266.4</td>\n",
       "      <td>3952.6</td>\n",
       "      <td>4875.4</td>\n",
       "      <td>318</td>\n",
       "    </tr>\n",
       "    <tr>\n",
       "      <th>3</th>\n",
       "      <td>0.0</td>\n",
       "      <td>0</td>\n",
       "      <td>0.0</td>\n",
       "      <td>0.0</td>\n",
       "      <td>0.0</td>\n",
       "      <td>0.0</td>\n",
       "      <td>0.0</td>\n",
       "      <td>-0.39150</td>\n",
       "      <td>0.0</td>\n",
       "      <td>0.0</td>\n",
       "      <td>...</td>\n",
       "      <td>0.0</td>\n",
       "      <td>0.0</td>\n",
       "      <td>0.0</td>\n",
       "      <td>3</td>\n",
       "      <td>915.31</td>\n",
       "      <td>2251.2</td>\n",
       "      <td>3431.1</td>\n",
       "      <td>3984.0</td>\n",
       "      <td>4716.6</td>\n",
       "      <td>318</td>\n",
       "    </tr>\n",
       "    <tr>\n",
       "      <th>4</th>\n",
       "      <td>0.0</td>\n",
       "      <td>0</td>\n",
       "      <td>0.0</td>\n",
       "      <td>0.0</td>\n",
       "      <td>0.0</td>\n",
       "      <td>0.0</td>\n",
       "      <td>0.0</td>\n",
       "      <td>-0.39443</td>\n",
       "      <td>0.0</td>\n",
       "      <td>0.0</td>\n",
       "      <td>...</td>\n",
       "      <td>0.0</td>\n",
       "      <td>0.0</td>\n",
       "      <td>0.0</td>\n",
       "      <td>4</td>\n",
       "      <td>862.92</td>\n",
       "      <td>1933.0</td>\n",
       "      <td>3046.8</td>\n",
       "      <td>3675.4</td>\n",
       "      <td>4373.7</td>\n",
       "      <td>318</td>\n",
       "    </tr>\n",
       "  </tbody>\n",
       "</table>\n",
       "<p>5 rows × 81 columns</p>\n",
       "</div>"
      ],
      "text/plain": [
       "   0_covarep  1_covarep  2_covarep  3_covarep  4_covarep    5    6        7  \\\n",
       "0        0.0          0        0.0        0.0        0.0  0.0  0.0  0.00000   \n",
       "1        0.0          0        0.0        0.0        0.0  0.0  0.0  0.00000   \n",
       "2        0.0          0        0.0        0.0        0.0  0.0  0.0 -0.37861   \n",
       "3        0.0          0        0.0        0.0        0.0  0.0  0.0 -0.39150   \n",
       "4        0.0          0        0.0        0.0        0.0  0.0  0.0 -0.39443   \n",
       "\n",
       "     8    9  ...   71   72   73  frame  0_formant  1_formant  2_formant  \\\n",
       "0  0.0  0.0  ...  0.0  0.0  0.0      0     818.07     1799.0     2622.4   \n",
       "1  0.0  0.0  ...  0.0  0.0  0.0      1     675.59     1625.1     2620.0   \n",
       "2  0.0  0.0  ...  0.0  0.0  0.0      2     849.31     1829.5     3266.4   \n",
       "3  0.0  0.0  ...  0.0  0.0  0.0      3     915.31     2251.2     3431.1   \n",
       "4  0.0  0.0  ...  0.0  0.0  0.0      4     862.92     1933.0     3046.8   \n",
       "\n",
       "   3_formant  4_formant  patient_id  \n",
       "0     3508.4     4171.6         318  \n",
       "1     3510.4     4388.1         318  \n",
       "2     3952.6     4875.4         318  \n",
       "3     3984.0     4716.6         318  \n",
       "4     3675.4     4373.7         318  \n",
       "\n",
       "[5 rows x 81 columns]"
      ]
     },
     "execution_count": 11,
     "metadata": {},
     "output_type": "execute_result"
    }
   ],
   "source": [
    "# Combine all patient data into a single DataFrame\n",
    "combined_df = pd.concat(processed_dfs, ignore_index=True)\n",
    "\n",
    "# Show shape and basic info\n",
    "print(\"✅ Combined dataset shape:\", combined_df.shape)\n",
    "combined_df.head()\n"
   ]
  },
  {
   "cell_type": "code",
   "execution_count": 12,
   "id": "7c7bb333",
   "metadata": {},
   "outputs": [
    {
     "name": "stdout",
     "output_type": "stream",
     "text": [
      "✅ Final labeled dataset shape: (100319, 82)\n"
     ]
    },
    {
     "data": {
      "text/html": [
       "<div>\n",
       "<style scoped>\n",
       "    .dataframe tbody tr th:only-of-type {\n",
       "        vertical-align: middle;\n",
       "    }\n",
       "\n",
       "    .dataframe tbody tr th {\n",
       "        vertical-align: top;\n",
       "    }\n",
       "\n",
       "    .dataframe thead th {\n",
       "        text-align: right;\n",
       "    }\n",
       "</style>\n",
       "<table border=\"1\" class=\"dataframe\">\n",
       "  <thead>\n",
       "    <tr style=\"text-align: right;\">\n",
       "      <th></th>\n",
       "      <th>0_covarep</th>\n",
       "      <th>1_covarep</th>\n",
       "      <th>2_covarep</th>\n",
       "      <th>3_covarep</th>\n",
       "      <th>4_covarep</th>\n",
       "      <th>5</th>\n",
       "      <th>6</th>\n",
       "      <th>7</th>\n",
       "      <th>8</th>\n",
       "      <th>9</th>\n",
       "      <th>...</th>\n",
       "      <th>72</th>\n",
       "      <th>73</th>\n",
       "      <th>frame</th>\n",
       "      <th>0_formant</th>\n",
       "      <th>1_formant</th>\n",
       "      <th>2_formant</th>\n",
       "      <th>3_formant</th>\n",
       "      <th>4_formant</th>\n",
       "      <th>patient_id</th>\n",
       "      <th>PHQ8_Score</th>\n",
       "    </tr>\n",
       "  </thead>\n",
       "  <tbody>\n",
       "    <tr>\n",
       "      <th>0</th>\n",
       "      <td>0.0</td>\n",
       "      <td>0</td>\n",
       "      <td>0.0</td>\n",
       "      <td>0.0</td>\n",
       "      <td>0.0</td>\n",
       "      <td>0.0</td>\n",
       "      <td>0.0</td>\n",
       "      <td>0.00000</td>\n",
       "      <td>0.0</td>\n",
       "      <td>0.0</td>\n",
       "      <td>...</td>\n",
       "      <td>0.0</td>\n",
       "      <td>0.0</td>\n",
       "      <td>0</td>\n",
       "      <td>818.07</td>\n",
       "      <td>1799.0</td>\n",
       "      <td>2622.4</td>\n",
       "      <td>3508.4</td>\n",
       "      <td>4171.6</td>\n",
       "      <td>318</td>\n",
       "      <td>3</td>\n",
       "    </tr>\n",
       "    <tr>\n",
       "      <th>1</th>\n",
       "      <td>0.0</td>\n",
       "      <td>0</td>\n",
       "      <td>0.0</td>\n",
       "      <td>0.0</td>\n",
       "      <td>0.0</td>\n",
       "      <td>0.0</td>\n",
       "      <td>0.0</td>\n",
       "      <td>0.00000</td>\n",
       "      <td>0.0</td>\n",
       "      <td>0.0</td>\n",
       "      <td>...</td>\n",
       "      <td>0.0</td>\n",
       "      <td>0.0</td>\n",
       "      <td>1</td>\n",
       "      <td>675.59</td>\n",
       "      <td>1625.1</td>\n",
       "      <td>2620.0</td>\n",
       "      <td>3510.4</td>\n",
       "      <td>4388.1</td>\n",
       "      <td>318</td>\n",
       "      <td>3</td>\n",
       "    </tr>\n",
       "    <tr>\n",
       "      <th>2</th>\n",
       "      <td>0.0</td>\n",
       "      <td>0</td>\n",
       "      <td>0.0</td>\n",
       "      <td>0.0</td>\n",
       "      <td>0.0</td>\n",
       "      <td>0.0</td>\n",
       "      <td>0.0</td>\n",
       "      <td>-0.37861</td>\n",
       "      <td>0.0</td>\n",
       "      <td>0.0</td>\n",
       "      <td>...</td>\n",
       "      <td>0.0</td>\n",
       "      <td>0.0</td>\n",
       "      <td>2</td>\n",
       "      <td>849.31</td>\n",
       "      <td>1829.5</td>\n",
       "      <td>3266.4</td>\n",
       "      <td>3952.6</td>\n",
       "      <td>4875.4</td>\n",
       "      <td>318</td>\n",
       "      <td>3</td>\n",
       "    </tr>\n",
       "    <tr>\n",
       "      <th>3</th>\n",
       "      <td>0.0</td>\n",
       "      <td>0</td>\n",
       "      <td>0.0</td>\n",
       "      <td>0.0</td>\n",
       "      <td>0.0</td>\n",
       "      <td>0.0</td>\n",
       "      <td>0.0</td>\n",
       "      <td>-0.39150</td>\n",
       "      <td>0.0</td>\n",
       "      <td>0.0</td>\n",
       "      <td>...</td>\n",
       "      <td>0.0</td>\n",
       "      <td>0.0</td>\n",
       "      <td>3</td>\n",
       "      <td>915.31</td>\n",
       "      <td>2251.2</td>\n",
       "      <td>3431.1</td>\n",
       "      <td>3984.0</td>\n",
       "      <td>4716.6</td>\n",
       "      <td>318</td>\n",
       "      <td>3</td>\n",
       "    </tr>\n",
       "    <tr>\n",
       "      <th>4</th>\n",
       "      <td>0.0</td>\n",
       "      <td>0</td>\n",
       "      <td>0.0</td>\n",
       "      <td>0.0</td>\n",
       "      <td>0.0</td>\n",
       "      <td>0.0</td>\n",
       "      <td>0.0</td>\n",
       "      <td>-0.39443</td>\n",
       "      <td>0.0</td>\n",
       "      <td>0.0</td>\n",
       "      <td>...</td>\n",
       "      <td>0.0</td>\n",
       "      <td>0.0</td>\n",
       "      <td>4</td>\n",
       "      <td>862.92</td>\n",
       "      <td>1933.0</td>\n",
       "      <td>3046.8</td>\n",
       "      <td>3675.4</td>\n",
       "      <td>4373.7</td>\n",
       "      <td>318</td>\n",
       "      <td>3</td>\n",
       "    </tr>\n",
       "  </tbody>\n",
       "</table>\n",
       "<p>5 rows × 82 columns</p>\n",
       "</div>"
      ],
      "text/plain": [
       "   0_covarep  1_covarep  2_covarep  3_covarep  4_covarep    5    6        7  \\\n",
       "0        0.0          0        0.0        0.0        0.0  0.0  0.0  0.00000   \n",
       "1        0.0          0        0.0        0.0        0.0  0.0  0.0  0.00000   \n",
       "2        0.0          0        0.0        0.0        0.0  0.0  0.0 -0.37861   \n",
       "3        0.0          0        0.0        0.0        0.0  0.0  0.0 -0.39150   \n",
       "4        0.0          0        0.0        0.0        0.0  0.0  0.0 -0.39443   \n",
       "\n",
       "     8    9  ...   72   73  frame  0_formant  1_formant  2_formant  3_formant  \\\n",
       "0  0.0  0.0  ...  0.0  0.0      0     818.07     1799.0     2622.4     3508.4   \n",
       "1  0.0  0.0  ...  0.0  0.0      1     675.59     1625.1     2620.0     3510.4   \n",
       "2  0.0  0.0  ...  0.0  0.0      2     849.31     1829.5     3266.4     3952.6   \n",
       "3  0.0  0.0  ...  0.0  0.0      3     915.31     2251.2     3431.1     3984.0   \n",
       "4  0.0  0.0  ...  0.0  0.0      4     862.92     1933.0     3046.8     3675.4   \n",
       "\n",
       "   4_formant  patient_id  PHQ8_Score  \n",
       "0     4171.6         318           3  \n",
       "1     4388.1         318           3  \n",
       "2     4875.4         318           3  \n",
       "3     4716.6         318           3  \n",
       "4     4373.7         318           3  \n",
       "\n",
       "[5 rows x 82 columns]"
      ]
     },
     "execution_count": 12,
     "metadata": {},
     "output_type": "execute_result"
    }
   ],
   "source": [
    "# Load the PHQ8 scores file\n",
    "phq8_df = pd.read_csv(base_path + 'train_split_Depression_AVEC2017.csv')\n",
    "\n",
    "# Keep only the relevant columns and rename for merging\n",
    "phq8_df = phq8_df[['Participant_ID', 'PHQ8_Score']].rename(columns={'Participant_ID': 'patient_id'})\n",
    "\n",
    "# Convert patient_id in combined_df to int if it's not already\n",
    "combined_df['patient_id'] = combined_df['patient_id'].astype(int)\n",
    "\n",
    "# Merge the PHQ8 scores with the combined feature dataframe\n",
    "data_labeled = combined_df.merge(phq8_df, on='patient_id', how='inner')\n",
    "\n",
    "# Confirm merge\n",
    "print(\"✅ Final labeled dataset shape:\", data_labeled.shape)\n",
    "data_labeled.head()\n"
   ]
  },
  {
   "cell_type": "code",
   "execution_count": 13,
   "id": "c1cb19d3",
   "metadata": {},
   "outputs": [
    {
     "name": "stdout",
     "output_type": "stream",
     "text": [
      "Features shape: (100319, 80), Target shape: (100319,)\n",
      "Train shape: (80255, 80), Test shape: (20064, 80)\n"
     ]
    }
   ],
   "source": [
    "from sklearn.model_selection import train_test_split\n",
    "\n",
    "# Drop any rows with missing values (if any)\n",
    "data_labeled = data_labeled.dropna()\n",
    "\n",
    "# Separate features and target label\n",
    "X = data_labeled.drop(columns=['patient_id', 'PHQ8_Score'])  # Features only\n",
    "y = data_labeled['PHQ8_Score']  # Target variable\n",
    "\n",
    "print(f\"Features shape: {X.shape}, Target shape: {y.shape}\")\n",
    "\n",
    "# Split into train and test (e.g., 80% train, 20% test)\n",
    "X_train, X_test, y_train, y_test = train_test_split(X, y, test_size=0.2, random_state=42)\n",
    "\n",
    "print(f\"Train shape: {X_train.shape}, Test shape: {X_test.shape}\")\n"
   ]
  },
  {
   "cell_type": "code",
   "execution_count": 14,
   "id": "b94a73e8",
   "metadata": {},
   "outputs": [],
   "source": [
    "# Assuming 'PHQ8_Score' column exists in your labeled data\n",
    "data_labeled['PHQ8_binary'] = data_labeled['PHQ8_Score'].apply(lambda x: 1 if x >= 10 else 0)\n"
   ]
  },
  {
   "cell_type": "code",
   "execution_count": 15,
   "id": "29f696b7",
   "metadata": {},
   "outputs": [],
   "source": [
    "X = data_labeled.drop(['PHQ8_Score', 'PHQ8_binary', 'patient_id'], axis=1)\n",
    "y = data_labeled['PHQ8_binary']\n"
   ]
  },
  {
   "cell_type": "code",
   "execution_count": 16,
   "id": "1760d6f9",
   "metadata": {},
   "outputs": [],
   "source": [
    "from sklearn.model_selection import train_test_split\n",
    "\n",
    "X_train, X_test, y_train_binary, y_test_binary = train_test_split(\n",
    "    X, y, test_size=0.2, random_state=42, stratify=y\n",
    ")\n"
   ]
  },
  {
   "cell_type": "code",
   "execution_count": 17,
   "id": "c11b5b6c",
   "metadata": {},
   "outputs": [
    {
     "name": "stderr",
     "output_type": "stream",
     "text": [
      "/Users/Saravanan/opt/anaconda3/lib/python3.9/site-packages/sklearn/utils/validation.py:1688: FutureWarning: Feature names only support names that are all strings. Got feature names with dtypes: ['int', 'str']. An error will be raised in 1.2.\n",
      "  warnings.warn(\n"
     ]
    },
    {
     "name": "stdout",
     "output_type": "stream",
     "text": [
      "Accuracy: 1.0\n",
      "\n",
      "Classification Report:\n",
      "               precision    recall  f1-score   support\n",
      "\n",
      "           0       1.00      1.00      1.00     20064\n",
      "\n",
      "    accuracy                           1.00     20064\n",
      "   macro avg       1.00      1.00      1.00     20064\n",
      "weighted avg       1.00      1.00      1.00     20064\n",
      "\n",
      "\n",
      "Confusion Matrix:\n",
      " [[20064]]\n"
     ]
    },
    {
     "name": "stderr",
     "output_type": "stream",
     "text": [
      "/Users/Saravanan/opt/anaconda3/lib/python3.9/site-packages/sklearn/utils/validation.py:1688: FutureWarning: Feature names only support names that are all strings. Got feature names with dtypes: ['int', 'str']. An error will be raised in 1.2.\n",
      "  warnings.warn(\n"
     ]
    }
   ],
   "source": [
    "from sklearn.ensemble import RandomForestClassifier\n",
    "from sklearn.metrics import classification_report, confusion_matrix, accuracy_score\n",
    "\n",
    "clf = RandomForestClassifier(n_estimators=100, random_state=42)\n",
    "clf.fit(X_train, y_train_binary)\n",
    "\n",
    "y_pred = clf.predict(X_test)\n",
    "\n",
    "print(\"Accuracy:\", accuracy_score(y_test_binary, y_pred))\n",
    "print(\"\\nClassification Report:\\n\", classification_report(y_test_binary, y_pred))\n",
    "print(\"\\nConfusion Matrix:\\n\", confusion_matrix(y_test_binary, y_pred))\n"
   ]
  },
  {
   "cell_type": "code",
   "execution_count": 18,
   "id": "ab431c09",
   "metadata": {},
   "outputs": [
    {
     "name": "stdout",
     "output_type": "stream",
     "text": [
      "Train label counts:\n",
      " 0    80255\n",
      "Name: PHQ8_binary, dtype: int64\n",
      "Test label counts:\n",
      " 0    20064\n",
      "Name: PHQ8_binary, dtype: int64\n"
     ]
    }
   ],
   "source": [
    "print(\"Train label counts:\\n\", y_train_binary.value_counts())\n",
    "print(\"Test label counts:\\n\", y_test_binary.value_counts())\n"
   ]
  },
  {
   "cell_type": "code",
   "execution_count": 19,
   "id": "3e83ae3a",
   "metadata": {},
   "outputs": [
    {
     "name": "stdout",
     "output_type": "stream",
     "text": [
      "Index(['Participant_ID', 'PHQ8_Binary', 'PHQ8_Score', 'Gender',\n",
      "       'PHQ8_NoInterest', 'PHQ8_Depressed', 'PHQ8_Sleep', 'PHQ8_Tired',\n",
      "       'PHQ8_Appetite', 'PHQ8_Failure', 'PHQ8_Concentrating', 'PHQ8_Moving'],\n",
      "      dtype='object')\n",
      "   Participant_ID  PHQ8_Binary  PHQ8_Score  Gender  PHQ8_NoInterest  \\\n",
      "0             303            0           0       0                0   \n",
      "1             304            0           6       0                0   \n",
      "2             305            0           7       1                0   \n",
      "3             310            0           4       1                1   \n",
      "4             312            0           2       1                0   \n",
      "\n",
      "   PHQ8_Depressed  PHQ8_Sleep  PHQ8_Tired  PHQ8_Appetite  PHQ8_Failure  \\\n",
      "0               0         0.0           0              0             0   \n",
      "1               1         1.0           2              2             0   \n",
      "2               1         1.0           2              2             1   \n",
      "3               1         0.0           0              0             1   \n",
      "4               0         1.0           1              0             0   \n",
      "\n",
      "   PHQ8_Concentrating  PHQ8_Moving  \n",
      "0                   0            0  \n",
      "1                   0            0  \n",
      "2                   0            0  \n",
      "3                   1            0  \n",
      "4                   0            0  \n",
      "Number of positive cases: 31\n",
      "Sample positive patient IDs: [319 320 321 325 330 338 339 344 345 347]\n"
     ]
    }
   ],
   "source": [
    "import pandas as pd\n",
    "\n",
    "# Path to your label CSV file\n",
    "labels_path = '/Users/Saravanan/patient data/train_split_Depression_AVEC2017.csv'\n",
    "\n",
    "# Load PHQ8 scores\n",
    "phq8_df = pd.read_csv(labels_path)\n",
    "\n",
    "# Check columns and first few rows to understand structure\n",
    "print(phq8_df.columns)\n",
    "print(phq8_df.head())\n",
    "\n",
    "# Filter patients with PHQ8 score >= 10 (positive class)\n",
    "positive_patients = phq8_df[phq8_df['PHQ8_Score'] >= 10]['Participant_ID'].unique()\n",
    "\n",
    "print(f\"Number of positive cases: {len(positive_patients)}\")\n",
    "print(\"Sample positive patient IDs:\", positive_patients[:10])\n"
   ]
  },
  {
   "cell_type": "code",
   "execution_count": null,
   "id": "fd05cc07",
   "metadata": {},
   "outputs": [],
   "source": [
    "# until here we performed sample implementation"
   ]
  },
  {
   "cell_type": "code",
   "execution_count": null,
   "id": "7730f594",
   "metadata": {},
   "outputs": [],
   "source": [
    "# actual implementation considering 10 patients"
   ]
  },
  {
   "cell_type": "code",
   "execution_count": 20,
   "id": "0e01e2d7",
   "metadata": {},
   "outputs": [
    {
     "name": "stdout",
     "output_type": "stream",
     "text": [
      "Patient 319:\n",
      "  COVAREP: Found\n",
      "  FORMANT: Found\n",
      "  TRANSCRIPT: Found\n",
      "Patient 320:\n",
      "  COVAREP: Found\n",
      "  FORMANT: Found\n",
      "  TRANSCRIPT: Found\n",
      "Patient 321:\n",
      "  COVAREP: Found\n",
      "  FORMANT: Found\n",
      "  TRANSCRIPT: Found\n",
      "Patient 325:\n",
      "  COVAREP: Found\n",
      "  FORMANT: Found\n",
      "  TRANSCRIPT: Found\n",
      "Patient 330:\n",
      "  COVAREP: Found\n",
      "  FORMANT: Found\n",
      "  TRANSCRIPT: Found\n",
      "Patient 338:\n",
      "  COVAREP: Found\n",
      "  FORMANT: Found\n",
      "  TRANSCRIPT: Found\n",
      "Patient 303:\n",
      "  COVAREP: Found\n",
      "  FORMANT: Found\n",
      "  TRANSCRIPT: Found\n",
      "Patient 304:\n",
      "  COVAREP: Found\n",
      "  FORMANT: Found\n",
      "  TRANSCRIPT: Found\n",
      "Patient 310:\n",
      "  COVAREP: Found\n",
      "  FORMANT: Found\n",
      "  TRANSCRIPT: Found\n",
      "Patient 318:\n",
      "  COVAREP: Found\n",
      "  FORMANT: Found\n",
      "  TRANSCRIPT: Found\n",
      "Patient 312:\n",
      "  COVAREP: Missing\n",
      "  FORMANT: Missing\n",
      "  TRANSCRIPT: Missing\n",
      "Patient 327:\n",
      "  COVAREP: Found\n",
      "  FORMANT: Found\n",
      "  TRANSCRIPT: Found\n"
     ]
    }
   ],
   "source": [
    "import os\n",
    "\n",
    "base_path = '/Users/Saravanan/patient data/'\n",
    "\n",
    "patient_ids = [319, 320, 321, 325, 330, 338, 303, 304, 310, 318, 312, 327]\n",
    "file_types = ['COVAREP', 'FORMANT', 'TRANSCRIPT']\n",
    "\n",
    "existing_files = {}\n",
    "\n",
    "for pid in patient_ids:\n",
    "    existing_files[pid] = {}\n",
    "    for ftype in file_types:\n",
    "        filename = f\"{pid}_{ftype}.csv\"\n",
    "        filepath = os.path.join(base_path, filename)\n",
    "        existing_files[pid][ftype] = os.path.exists(filepath)\n",
    "\n",
    "# Print summary\n",
    "for pid, files in existing_files.items():\n",
    "    print(f\"Patient {pid}:\")\n",
    "    for ftype, exists in files.items():\n",
    "        print(f\"  {ftype}: {'Found' if exists else 'Missing'}\")\n"
   ]
  },
  {
   "cell_type": "code",
   "execution_count": 21,
   "id": "a6ff1261",
   "metadata": {},
   "outputs": [
    {
     "name": "stderr",
     "output_type": "stream",
     "text": [
      "2025-05-15 21:05:31.706991: I tensorflow/core/platform/cpu_feature_guard.cc:210] This TensorFlow binary is optimized to use available CPU instructions in performance-critical operations.\n",
      "To enable the following instructions: AVX2 FMA, in other operations, rebuild TensorFlow with the appropriate compiler flags.\n"
     ]
    },
    {
     "data": {
      "text/html": [
       "<pre style=\"white-space:pre;overflow-x:auto;line-height:normal;font-family:Menlo,'DejaVu Sans Mono',consolas,'Courier New',monospace\"><span style=\"font-weight: bold\">Model: \"functional\"</span>\n",
       "</pre>\n"
      ],
      "text/plain": [
       "\u001b[1mModel: \"functional\"\u001b[0m\n"
      ]
     },
     "metadata": {},
     "output_type": "display_data"
    },
    {
     "data": {
      "text/html": [
       "<pre style=\"white-space:pre;overflow-x:auto;line-height:normal;font-family:Menlo,'DejaVu Sans Mono',consolas,'Courier New',monospace\">┏━━━━━━━━━━━━━━━━━━━━━┳━━━━━━━━━━━━━━━━━━━┳━━━━━━━━━━━━┳━━━━━━━━━━━━━━━━━━━┓\n",
       "┃<span style=\"font-weight: bold\"> Layer (type)        </span>┃<span style=\"font-weight: bold\"> Output Shape      </span>┃<span style=\"font-weight: bold\">    Param # </span>┃<span style=\"font-weight: bold\"> Connected to      </span>┃\n",
       "┡━━━━━━━━━━━━━━━━━━━━━╇━━━━━━━━━━━━━━━━━━━╇━━━━━━━━━━━━╇━━━━━━━━━━━━━━━━━━━┩\n",
       "│ audio_input         │ (<span style=\"color: #00d7ff; text-decoration-color: #00d7ff\">None</span>, <span style=\"color: #00af00; text-decoration-color: #00af00\">74</span>)        │          <span style=\"color: #00af00; text-decoration-color: #00af00\">0</span> │ -                 │\n",
       "│ (<span style=\"color: #0087ff; text-decoration-color: #0087ff\">InputLayer</span>)        │                   │            │                   │\n",
       "├─────────────────────┼───────────────────┼────────────┼───────────────────┤\n",
       "│ text_input          │ (<span style=\"color: #00d7ff; text-decoration-color: #00d7ff\">None</span>, <span style=\"color: #00af00; text-decoration-color: #00af00\">768</span>)       │          <span style=\"color: #00af00; text-decoration-color: #00af00\">0</span> │ -                 │\n",
       "│ (<span style=\"color: #0087ff; text-decoration-color: #0087ff\">InputLayer</span>)        │                   │            │                   │\n",
       "├─────────────────────┼───────────────────┼────────────┼───────────────────┤\n",
       "│ dense (<span style=\"color: #0087ff; text-decoration-color: #0087ff\">Dense</span>)       │ (<span style=\"color: #00d7ff; text-decoration-color: #00d7ff\">None</span>, <span style=\"color: #00af00; text-decoration-color: #00af00\">128</span>)       │      <span style=\"color: #00af00; text-decoration-color: #00af00\">9,600</span> │ audio_input[<span style=\"color: #00af00; text-decoration-color: #00af00\">0</span>][<span style=\"color: #00af00; text-decoration-color: #00af00\">0</span>] │\n",
       "├─────────────────────┼───────────────────┼────────────┼───────────────────┤\n",
       "│ dense_2 (<span style=\"color: #0087ff; text-decoration-color: #0087ff\">Dense</span>)     │ (<span style=\"color: #00d7ff; text-decoration-color: #00d7ff\">None</span>, <span style=\"color: #00af00; text-decoration-color: #00af00\">256</span>)       │    <span style=\"color: #00af00; text-decoration-color: #00af00\">196,864</span> │ text_input[<span style=\"color: #00af00; text-decoration-color: #00af00\">0</span>][<span style=\"color: #00af00; text-decoration-color: #00af00\">0</span>]  │\n",
       "├─────────────────────┼───────────────────┼────────────┼───────────────────┤\n",
       "│ dropout (<span style=\"color: #0087ff; text-decoration-color: #0087ff\">Dropout</span>)   │ (<span style=\"color: #00d7ff; text-decoration-color: #00d7ff\">None</span>, <span style=\"color: #00af00; text-decoration-color: #00af00\">128</span>)       │          <span style=\"color: #00af00; text-decoration-color: #00af00\">0</span> │ dense[<span style=\"color: #00af00; text-decoration-color: #00af00\">0</span>][<span style=\"color: #00af00; text-decoration-color: #00af00\">0</span>]       │\n",
       "├─────────────────────┼───────────────────┼────────────┼───────────────────┤\n",
       "│ dropout_1 (<span style=\"color: #0087ff; text-decoration-color: #0087ff\">Dropout</span>) │ (<span style=\"color: #00d7ff; text-decoration-color: #00d7ff\">None</span>, <span style=\"color: #00af00; text-decoration-color: #00af00\">256</span>)       │          <span style=\"color: #00af00; text-decoration-color: #00af00\">0</span> │ dense_2[<span style=\"color: #00af00; text-decoration-color: #00af00\">0</span>][<span style=\"color: #00af00; text-decoration-color: #00af00\">0</span>]     │\n",
       "├─────────────────────┼───────────────────┼────────────┼───────────────────┤\n",
       "│ dense_1 (<span style=\"color: #0087ff; text-decoration-color: #0087ff\">Dense</span>)     │ (<span style=\"color: #00d7ff; text-decoration-color: #00d7ff\">None</span>, <span style=\"color: #00af00; text-decoration-color: #00af00\">64</span>)        │      <span style=\"color: #00af00; text-decoration-color: #00af00\">8,256</span> │ dropout[<span style=\"color: #00af00; text-decoration-color: #00af00\">0</span>][<span style=\"color: #00af00; text-decoration-color: #00af00\">0</span>]     │\n",
       "├─────────────────────┼───────────────────┼────────────┼───────────────────┤\n",
       "│ dense_3 (<span style=\"color: #0087ff; text-decoration-color: #0087ff\">Dense</span>)     │ (<span style=\"color: #00d7ff; text-decoration-color: #00d7ff\">None</span>, <span style=\"color: #00af00; text-decoration-color: #00af00\">128</span>)       │     <span style=\"color: #00af00; text-decoration-color: #00af00\">32,896</span> │ dropout_1[<span style=\"color: #00af00; text-decoration-color: #00af00\">0</span>][<span style=\"color: #00af00; text-decoration-color: #00af00\">0</span>]   │\n",
       "├─────────────────────┼───────────────────┼────────────┼───────────────────┤\n",
       "│ concatenate         │ (<span style=\"color: #00d7ff; text-decoration-color: #00d7ff\">None</span>, <span style=\"color: #00af00; text-decoration-color: #00af00\">192</span>)       │          <span style=\"color: #00af00; text-decoration-color: #00af00\">0</span> │ dense_1[<span style=\"color: #00af00; text-decoration-color: #00af00\">0</span>][<span style=\"color: #00af00; text-decoration-color: #00af00\">0</span>],    │\n",
       "│ (<span style=\"color: #0087ff; text-decoration-color: #0087ff\">Concatenate</span>)       │                   │            │ dense_3[<span style=\"color: #00af00; text-decoration-color: #00af00\">0</span>][<span style=\"color: #00af00; text-decoration-color: #00af00\">0</span>]     │\n",
       "├─────────────────────┼───────────────────┼────────────┼───────────────────┤\n",
       "│ dense_4 (<span style=\"color: #0087ff; text-decoration-color: #0087ff\">Dense</span>)     │ (<span style=\"color: #00d7ff; text-decoration-color: #00d7ff\">None</span>, <span style=\"color: #00af00; text-decoration-color: #00af00\">128</span>)       │     <span style=\"color: #00af00; text-decoration-color: #00af00\">24,704</span> │ concatenate[<span style=\"color: #00af00; text-decoration-color: #00af00\">0</span>][<span style=\"color: #00af00; text-decoration-color: #00af00\">0</span>] │\n",
       "├─────────────────────┼───────────────────┼────────────┼───────────────────┤\n",
       "│ dropout_2 (<span style=\"color: #0087ff; text-decoration-color: #0087ff\">Dropout</span>) │ (<span style=\"color: #00d7ff; text-decoration-color: #00d7ff\">None</span>, <span style=\"color: #00af00; text-decoration-color: #00af00\">128</span>)       │          <span style=\"color: #00af00; text-decoration-color: #00af00\">0</span> │ dense_4[<span style=\"color: #00af00; text-decoration-color: #00af00\">0</span>][<span style=\"color: #00af00; text-decoration-color: #00af00\">0</span>]     │\n",
       "├─────────────────────┼───────────────────┼────────────┼───────────────────┤\n",
       "│ dense_5 (<span style=\"color: #0087ff; text-decoration-color: #0087ff\">Dense</span>)     │ (<span style=\"color: #00d7ff; text-decoration-color: #00d7ff\">None</span>, <span style=\"color: #00af00; text-decoration-color: #00af00\">64</span>)        │      <span style=\"color: #00af00; text-decoration-color: #00af00\">8,256</span> │ dropout_2[<span style=\"color: #00af00; text-decoration-color: #00af00\">0</span>][<span style=\"color: #00af00; text-decoration-color: #00af00\">0</span>]   │\n",
       "├─────────────────────┼───────────────────┼────────────┼───────────────────┤\n",
       "│ output (<span style=\"color: #0087ff; text-decoration-color: #0087ff\">Dense</span>)      │ (<span style=\"color: #00d7ff; text-decoration-color: #00d7ff\">None</span>, <span style=\"color: #00af00; text-decoration-color: #00af00\">1</span>)         │         <span style=\"color: #00af00; text-decoration-color: #00af00\">65</span> │ dense_5[<span style=\"color: #00af00; text-decoration-color: #00af00\">0</span>][<span style=\"color: #00af00; text-decoration-color: #00af00\">0</span>]     │\n",
       "└─────────────────────┴───────────────────┴────────────┴───────────────────┘\n",
       "</pre>\n"
      ],
      "text/plain": [
       "┏━━━━━━━━━━━━━━━━━━━━━┳━━━━━━━━━━━━━━━━━━━┳━━━━━━━━━━━━┳━━━━━━━━━━━━━━━━━━━┓\n",
       "┃\u001b[1m \u001b[0m\u001b[1mLayer (type)       \u001b[0m\u001b[1m \u001b[0m┃\u001b[1m \u001b[0m\u001b[1mOutput Shape     \u001b[0m\u001b[1m \u001b[0m┃\u001b[1m \u001b[0m\u001b[1m   Param #\u001b[0m\u001b[1m \u001b[0m┃\u001b[1m \u001b[0m\u001b[1mConnected to     \u001b[0m\u001b[1m \u001b[0m┃\n",
       "┡━━━━━━━━━━━━━━━━━━━━━╇━━━━━━━━━━━━━━━━━━━╇━━━━━━━━━━━━╇━━━━━━━━━━━━━━━━━━━┩\n",
       "│ audio_input         │ (\u001b[38;5;45mNone\u001b[0m, \u001b[38;5;34m74\u001b[0m)        │          \u001b[38;5;34m0\u001b[0m │ -                 │\n",
       "│ (\u001b[38;5;33mInputLayer\u001b[0m)        │                   │            │                   │\n",
       "├─────────────────────┼───────────────────┼────────────┼───────────────────┤\n",
       "│ text_input          │ (\u001b[38;5;45mNone\u001b[0m, \u001b[38;5;34m768\u001b[0m)       │          \u001b[38;5;34m0\u001b[0m │ -                 │\n",
       "│ (\u001b[38;5;33mInputLayer\u001b[0m)        │                   │            │                   │\n",
       "├─────────────────────┼───────────────────┼────────────┼───────────────────┤\n",
       "│ dense (\u001b[38;5;33mDense\u001b[0m)       │ (\u001b[38;5;45mNone\u001b[0m, \u001b[38;5;34m128\u001b[0m)       │      \u001b[38;5;34m9,600\u001b[0m │ audio_input[\u001b[38;5;34m0\u001b[0m][\u001b[38;5;34m0\u001b[0m] │\n",
       "├─────────────────────┼───────────────────┼────────────┼───────────────────┤\n",
       "│ dense_2 (\u001b[38;5;33mDense\u001b[0m)     │ (\u001b[38;5;45mNone\u001b[0m, \u001b[38;5;34m256\u001b[0m)       │    \u001b[38;5;34m196,864\u001b[0m │ text_input[\u001b[38;5;34m0\u001b[0m][\u001b[38;5;34m0\u001b[0m]  │\n",
       "├─────────────────────┼───────────────────┼────────────┼───────────────────┤\n",
       "│ dropout (\u001b[38;5;33mDropout\u001b[0m)   │ (\u001b[38;5;45mNone\u001b[0m, \u001b[38;5;34m128\u001b[0m)       │          \u001b[38;5;34m0\u001b[0m │ dense[\u001b[38;5;34m0\u001b[0m][\u001b[38;5;34m0\u001b[0m]       │\n",
       "├─────────────────────┼───────────────────┼────────────┼───────────────────┤\n",
       "│ dropout_1 (\u001b[38;5;33mDropout\u001b[0m) │ (\u001b[38;5;45mNone\u001b[0m, \u001b[38;5;34m256\u001b[0m)       │          \u001b[38;5;34m0\u001b[0m │ dense_2[\u001b[38;5;34m0\u001b[0m][\u001b[38;5;34m0\u001b[0m]     │\n",
       "├─────────────────────┼───────────────────┼────────────┼───────────────────┤\n",
       "│ dense_1 (\u001b[38;5;33mDense\u001b[0m)     │ (\u001b[38;5;45mNone\u001b[0m, \u001b[38;5;34m64\u001b[0m)        │      \u001b[38;5;34m8,256\u001b[0m │ dropout[\u001b[38;5;34m0\u001b[0m][\u001b[38;5;34m0\u001b[0m]     │\n",
       "├─────────────────────┼───────────────────┼────────────┼───────────────────┤\n",
       "│ dense_3 (\u001b[38;5;33mDense\u001b[0m)     │ (\u001b[38;5;45mNone\u001b[0m, \u001b[38;5;34m128\u001b[0m)       │     \u001b[38;5;34m32,896\u001b[0m │ dropout_1[\u001b[38;5;34m0\u001b[0m][\u001b[38;5;34m0\u001b[0m]   │\n",
       "├─────────────────────┼───────────────────┼────────────┼───────────────────┤\n",
       "│ concatenate         │ (\u001b[38;5;45mNone\u001b[0m, \u001b[38;5;34m192\u001b[0m)       │          \u001b[38;5;34m0\u001b[0m │ dense_1[\u001b[38;5;34m0\u001b[0m][\u001b[38;5;34m0\u001b[0m],    │\n",
       "│ (\u001b[38;5;33mConcatenate\u001b[0m)       │                   │            │ dense_3[\u001b[38;5;34m0\u001b[0m][\u001b[38;5;34m0\u001b[0m]     │\n",
       "├─────────────────────┼───────────────────┼────────────┼───────────────────┤\n",
       "│ dense_4 (\u001b[38;5;33mDense\u001b[0m)     │ (\u001b[38;5;45mNone\u001b[0m, \u001b[38;5;34m128\u001b[0m)       │     \u001b[38;5;34m24,704\u001b[0m │ concatenate[\u001b[38;5;34m0\u001b[0m][\u001b[38;5;34m0\u001b[0m] │\n",
       "├─────────────────────┼───────────────────┼────────────┼───────────────────┤\n",
       "│ dropout_2 (\u001b[38;5;33mDropout\u001b[0m) │ (\u001b[38;5;45mNone\u001b[0m, \u001b[38;5;34m128\u001b[0m)       │          \u001b[38;5;34m0\u001b[0m │ dense_4[\u001b[38;5;34m0\u001b[0m][\u001b[38;5;34m0\u001b[0m]     │\n",
       "├─────────────────────┼───────────────────┼────────────┼───────────────────┤\n",
       "│ dense_5 (\u001b[38;5;33mDense\u001b[0m)     │ (\u001b[38;5;45mNone\u001b[0m, \u001b[38;5;34m64\u001b[0m)        │      \u001b[38;5;34m8,256\u001b[0m │ dropout_2[\u001b[38;5;34m0\u001b[0m][\u001b[38;5;34m0\u001b[0m]   │\n",
       "├─────────────────────┼───────────────────┼────────────┼───────────────────┤\n",
       "│ output (\u001b[38;5;33mDense\u001b[0m)      │ (\u001b[38;5;45mNone\u001b[0m, \u001b[38;5;34m1\u001b[0m)         │         \u001b[38;5;34m65\u001b[0m │ dense_5[\u001b[38;5;34m0\u001b[0m][\u001b[38;5;34m0\u001b[0m]     │\n",
       "└─────────────────────┴───────────────────┴────────────┴───────────────────┘\n"
      ]
     },
     "metadata": {},
     "output_type": "display_data"
    },
    {
     "data": {
      "text/html": [
       "<pre style=\"white-space:pre;overflow-x:auto;line-height:normal;font-family:Menlo,'DejaVu Sans Mono',consolas,'Courier New',monospace\"><span style=\"font-weight: bold\"> Total params: </span><span style=\"color: #00af00; text-decoration-color: #00af00\">280,641</span> (1.07 MB)\n",
       "</pre>\n"
      ],
      "text/plain": [
       "\u001b[1m Total params: \u001b[0m\u001b[38;5;34m280,641\u001b[0m (1.07 MB)\n"
      ]
     },
     "metadata": {},
     "output_type": "display_data"
    },
    {
     "data": {
      "text/html": [
       "<pre style=\"white-space:pre;overflow-x:auto;line-height:normal;font-family:Menlo,'DejaVu Sans Mono',consolas,'Courier New',monospace\"><span style=\"font-weight: bold\"> Trainable params: </span><span style=\"color: #00af00; text-decoration-color: #00af00\">280,641</span> (1.07 MB)\n",
       "</pre>\n"
      ],
      "text/plain": [
       "\u001b[1m Trainable params: \u001b[0m\u001b[38;5;34m280,641\u001b[0m (1.07 MB)\n"
      ]
     },
     "metadata": {},
     "output_type": "display_data"
    },
    {
     "data": {
      "text/html": [
       "<pre style=\"white-space:pre;overflow-x:auto;line-height:normal;font-family:Menlo,'DejaVu Sans Mono',consolas,'Courier New',monospace\"><span style=\"font-weight: bold\"> Non-trainable params: </span><span style=\"color: #00af00; text-decoration-color: #00af00\">0</span> (0.00 B)\n",
       "</pre>\n"
      ],
      "text/plain": [
       "\u001b[1m Non-trainable params: \u001b[0m\u001b[38;5;34m0\u001b[0m (0.00 B)\n"
      ]
     },
     "metadata": {},
     "output_type": "display_data"
    }
   ],
   "source": [
    "import tensorflow as tf\n",
    "from tensorflow.keras.layers import Input, Dense, Dropout, Concatenate\n",
    "from tensorflow.keras.models import Model\n",
    "\n",
    "# Audio branch input and layers\n",
    "audio_input = Input(shape=(74,), name='audio_input')\n",
    "x_audio = Dense(128, activation='relu')(audio_input)\n",
    "x_audio = Dropout(0.3)(x_audio)\n",
    "x_audio = Dense(64, activation='relu')(x_audio)\n",
    "\n",
    "# Text branch input and layers\n",
    "text_input = Input(shape=(768,), name='text_input')\n",
    "x_text = Dense(256, activation='relu')(text_input)\n",
    "x_text = Dropout(0.3)(x_text)\n",
    "x_text = Dense(128, activation='relu')(x_text)\n",
    "\n",
    "# Fusion\n",
    "merged = Concatenate()([x_audio, x_text])\n",
    "x = Dense(128, activation='relu')(merged)\n",
    "x = Dropout(0.4)(x)\n",
    "x = Dense(64, activation='relu')(x)\n",
    "\n",
    "# Output layer: Binary classification (depressed / not)\n",
    "output = Dense(1, activation='sigmoid', name='output')(x)\n",
    "\n",
    "# Model definition\n",
    "model = Model(inputs=[audio_input, text_input], outputs=output)\n",
    "\n",
    "# Compile\n",
    "model.compile(optimizer='adam',\n",
    "              loss='binary_crossentropy',\n",
    "              metrics=['accuracy'])\n",
    "\n",
    "# Model summary\n",
    "model.summary()\n"
   ]
  },
  {
   "cell_type": "code",
   "execution_count": 22,
   "id": "59dc8625",
   "metadata": {},
   "outputs": [
    {
     "name": "stderr",
     "output_type": "stream",
     "text": [
      "Some weights of the PyTorch model were not used when initializing the TF 2.0 model TFDistilBertModel: ['vocab_layer_norm.bias', 'vocab_layer_norm.weight', 'vocab_projector.bias', 'vocab_transform.bias', 'vocab_transform.weight']\n",
      "- This IS expected if you are initializing TFDistilBertModel from a PyTorch model trained on another task or with another architecture (e.g. initializing a TFBertForSequenceClassification model from a BertForPreTraining model).\n",
      "- This IS NOT expected if you are initializing TFDistilBertModel from a PyTorch model that you expect to be exactly identical (e.g. initializing a TFBertForSequenceClassification model from a BertForSequenceClassification model).\n",
      "All the weights of TFDistilBertModel were initialized from the PyTorch model.\n",
      "If your task is similar to the task the model of the checkpoint was trained on, you can already use TFDistilBertModel for predictions without further training.\n"
     ]
    },
    {
     "name": "stdout",
     "output_type": "stream",
     "text": [
      "Embedding shape: (768,)\n"
     ]
    }
   ],
   "source": [
    "from transformers import DistilBertTokenizer, TFDistilBertModel\n",
    "import tensorflow as tf\n",
    "import numpy as np\n",
    "\n",
    "# Load pretrained model and tokenizer\n",
    "tokenizer = DistilBertTokenizer.from_pretrained('distilbert-base-uncased')\n",
    "distilbert_model = TFDistilBertModel.from_pretrained('distilbert-base-uncased')\n",
    "\n",
    "def get_text_embedding(text):\n",
    "    # Tokenize text, return tensors, pad/truncate to max length 128 tokens (adjustable)\n",
    "    inputs = tokenizer(text, return_tensors='tf', max_length=128, truncation=True, padding='max_length')\n",
    "    outputs = distilbert_model(**inputs)\n",
    "    \n",
    "    # outputs.last_hidden_state shape: (batch_size, sequence_length, hidden_size)\n",
    "    # Take [CLS] token embedding (first token) as sentence embedding\n",
    "    cls_embedding = outputs.last_hidden_state[:, 0, :]\n",
    "    return cls_embedding.numpy().flatten()\n",
    "\n",
    "# Example usage:\n",
    "sample_text = \"I feel very tired and have lost interest in activities.\"\n",
    "embedding = get_text_embedding(sample_text)\n",
    "print(\"Embedding shape:\", embedding.shape)  # Should be (768,)\n"
   ]
  },
  {
   "cell_type": "code",
   "execution_count": null,
   "id": "cc734874",
   "metadata": {},
   "outputs": [],
   "source": [
    "AUDIO tagging from here"
   ]
  },
  {
   "cell_type": "code",
   "execution_count": 23,
   "id": "615f9f0d",
   "metadata": {},
   "outputs": [],
   "source": [
    "import os\n",
    "import pandas as pd\n",
    "\n",
    "base_path = '/Users/Saravanan/patient data/'\n",
    "patient_ids = [319, 320, 321, 325, 330, 338, 303, 304, 310, 318, 327, 325, 303]\n",
    "\n",
    "transcripts_dict = {}\n",
    "\n",
    "for pid in set(patient_ids):\n",
    "    transcript_path = os.path.join(base_path, f\"{pid}_TRANSCRIPT.csv\")\n",
    "    if os.path.exists(transcript_path):\n",
    "        try:\n",
    "            df = pd.read_csv(transcript_path, sep='\\t')\n",
    "            if 'value' in df.columns:\n",
    "                transcript_text = \" \".join(df['value'].astype(str))\n",
    "                transcripts_dict[pid] = transcript_text\n",
    "            else:\n",
    "                print(f\"⚠️ Column 'value' missing in {transcript_path}\")\n",
    "        except Exception as e:\n",
    "            print(f\"❌ Failed to read {transcript_path}: {e}\")\n",
    "    else:\n",
    "        print(f\"❌ Transcript file not found for patient {pid}\")\n",
    "\n",
    "\n"
   ]
  },
  {
   "cell_type": "code",
   "execution_count": 24,
   "id": "6a5b51b8",
   "metadata": {},
   "outputs": [
    {
     "name": "stdout",
     "output_type": "stream",
     "text": [
      "✅ Embedded transcript for patient 320\n",
      "✅ Embedded transcript for patient 321\n",
      "✅ Embedded transcript for patient 325\n",
      "✅ Embedded transcript for patient 327\n",
      "✅ Embedded transcript for patient 330\n",
      "✅ Embedded transcript for patient 303\n",
      "✅ Embedded transcript for patient 304\n",
      "✅ Embedded transcript for patient 338\n",
      "✅ Embedded transcript for patient 310\n",
      "✅ Embedded transcript for patient 318\n",
      "✅ Embedded transcript for patient 319\n"
     ]
    }
   ],
   "source": [
    "text_embeddings = {}\n",
    "for pid, text in transcripts_dict.items():\n",
    "    try:\n",
    "        embedding = get_text_embedding(text)\n",
    "        text_embeddings[pid] = embedding\n",
    "        print(f\"✅ Embedded transcript for patient {pid}\")\n",
    "    except Exception as e:\n",
    "        print(f\"❌ Failed embedding for patient {pid}: {e}\")\n"
   ]
  },
  {
   "cell_type": "code",
   "execution_count": 28,
   "id": "2158680d",
   "metadata": {},
   "outputs": [
    {
     "name": "stdout",
     "output_type": "stream",
     "text": [
      "Shape: (67971, 74)\n",
      "First few rows:\n",
      "    0   1    2    3    4    5    6        7    8    9   ...   64   65   66  \\\n",
      "0  0.0   0  0.0  0.0  0.0  0.0  0.0  0.00000  0.0  0.0  ...  0.0  0.0  0.0   \n",
      "1  0.0   0  0.0  0.0  0.0  0.0  0.0  0.00000  0.0  0.0  ...  0.0  0.0  0.0   \n",
      "2  0.0   0  0.0  0.0  0.0  0.0  0.0 -0.24899  0.0  0.0  ...  0.0  0.0  0.0   \n",
      "3  0.0   0  0.0  0.0  0.0  0.0  0.0 -0.25096  0.0  0.0  ...  0.0  0.0  0.0   \n",
      "4  0.0   0  0.0  0.0  0.0  0.0  0.0 -0.24684  0.0  0.0  ...  0.0  0.0  0.0   \n",
      "\n",
      "    67   68   69   70   71   72   73  \n",
      "0  0.0  0.0  0.0  0.0  0.0  0.0  0.0  \n",
      "1  0.0  0.0  0.0  0.0  0.0  0.0  0.0  \n",
      "2  0.0  0.0  0.0  0.0  0.0  0.0  0.0  \n",
      "3  0.0  0.0  0.0  0.0  0.0  0.0  0.0  \n",
      "4  0.0  0.0  0.0  0.0  0.0  0.0  0.0  \n",
      "\n",
      "[5 rows x 74 columns]\n"
     ]
    }
   ],
   "source": [
    "covarep_path = os.path.join(base_path, \"319_COVAREP.csv\")\n",
    "\n",
    "# Try reloading the file with no headers\n",
    "df = pd.read_csv(covarep_path, header=None)\n",
    "print(\"Shape:\", df.shape)\n",
    "print(\"First few rows:\")\n",
    "print(df.head())\n"
   ]
  },
  {
   "cell_type": "code",
   "execution_count": 29,
   "id": "eac1d55d",
   "metadata": {},
   "outputs": [
    {
     "name": "stdout",
     "output_type": "stream",
     "text": [
      "Extracted feature vector shape: (74,)\n"
     ]
    }
   ],
   "source": [
    "# Assuming it's valid numerical data\n",
    "if df.shape[0] > 0:\n",
    "    feature_vector = df.mean(axis=0).values\n",
    "    print(\"Extracted feature vector shape:\", feature_vector.shape)\n",
    "else:\n",
    "    print(\"File is empty or not usable.\")\n"
   ]
  },
  {
   "cell_type": "code",
   "execution_count": 31,
   "id": "a610ef6b",
   "metadata": {},
   "outputs": [
    {
     "name": "stdout",
     "output_type": "stream",
     "text": [
      "Skipping patient 320 due to error: name 'load_audio_features' is not defined\n",
      "Skipping patient 327 due to error: name 'load_audio_features' is not defined\n",
      "Skipping patient 330 due to error: name 'load_audio_features' is not defined\n",
      "Skipping patient 338 due to error: name 'load_audio_features' is not defined\n",
      "Skipping patient 318 due to error: name 'load_audio_features' is not defined\n",
      "Prepared features and labels for 0 patients: []\n"
     ]
    }
   ],
   "source": [
    "# List of patients confirmed to have usable audio + text data\n",
    "usable_patients = [320, 327, 330, 338, 318]  # update as needed\n",
    "\n",
    "X = []\n",
    "y = []\n",
    "matched_patients = []\n",
    "\n",
    "for pid in usable_patients:\n",
    "    try:\n",
    "        # Load audio features (adjust loading function to your setup)\n",
    "        audio_feat = load_audio_features(pid)  # your custom function\n",
    "        \n",
    "        # Load transcript and get text embedding (you already have get_text_embedding)\n",
    "        transcript_text = load_transcript_text(pid)  # your custom function\n",
    "        text_embed = get_text_embedding(transcript_text)\n",
    "        \n",
    "        # Combine audio + text features\n",
    "        combined_feat = np.concatenate([audio_feat, text_embed])\n",
    "        \n",
    "        # Get label from label file (you have this part working)\n",
    "        label = get_label_for_patient(pid)  # returns 0 or 1\n",
    "        \n",
    "        X.append(combined_feat)\n",
    "        y.append(label)\n",
    "        matched_patients.append(pid)\n",
    "        \n",
    "    except Exception as e:\n",
    "        print(f\"Skipping patient {pid} due to error: {e}\")\n",
    "\n",
    "X = np.array(X)\n",
    "y = np.array(y)\n",
    "\n",
    "print(f\"Prepared features and labels for {len(matched_patients)} patients: {matched_patients}\")\n"
   ]
  },
  {
   "cell_type": "code",
   "execution_count": null,
   "id": "2ad46353",
   "metadata": {},
   "outputs": [],
   "source": [
    "#audio data is messy, hence i stopped"
   ]
  },
  {
   "cell_type": "code",
   "execution_count": 32,
   "id": "afd515e5",
   "metadata": {},
   "outputs": [],
   "source": [
    "import os\n",
    "import pandas as pd\n",
    "import numpy as np\n",
    "\n",
    "base_path = '/Users/Saravanan/patient data/'\n",
    "\n",
    "def load_audio_features(patient_id):\n",
    "    filename = os.path.join(base_path, f\"{patient_id}_COVAREP.csv\")\n",
    "    if not os.path.exists(filename):\n",
    "        raise FileNotFoundError(f\"Audio feature file not found for patient {patient_id}\")\n",
    "    \n",
    "    df = pd.read_csv(filename)\n",
    "    \n",
    "    # You mentioned columns can be messy, so let's just take numeric columns only\n",
    "    numeric_cols = df.select_dtypes(include=[np.number]).columns\n",
    "    if len(numeric_cols) == 0:\n",
    "        raise ValueError(f\"No numeric columns found in audio feature file for patient {patient_id}\")\n",
    "    \n",
    "    # Option 1: Take mean of numeric features across all rows as feature vector\n",
    "    features = df[numeric_cols].mean(axis=0).values\n",
    "    \n",
    "    return features\n"
   ]
  },
  {
   "cell_type": "code",
   "execution_count": 33,
   "id": "f93c6f83",
   "metadata": {},
   "outputs": [],
   "source": [
    "def load_transcript_text(patient_id):\n",
    "    filename = os.path.join(base_path, f\"{patient_id}_TRANSCRIPT.csv\")\n",
    "    if not os.path.exists(filename):\n",
    "        raise FileNotFoundError(f\"Transcript file not found for patient {patient_id}\")\n",
    "    \n",
    "    df = pd.read_csv(filename)\n",
    "    \n",
    "    if 'value' not in df.columns:\n",
    "        raise ValueError(f\"Column 'value' missing in transcript file for patient {patient_id}\")\n",
    "    \n",
    "    # Join all participant speech as one text block for embedding\n",
    "    participant_texts = df[df['speaker'] == 'Participant']['value'].dropna().tolist()\n",
    "    combined_text = \" \".join(participant_texts)\n",
    "    \n",
    "    if combined_text.strip() == \"\":\n",
    "        raise ValueError(f\"No valid participant text found in transcript for patient {patient_id}\")\n",
    "    \n",
    "    return combined_text\n"
   ]
  },
  {
   "cell_type": "code",
   "execution_count": 34,
   "id": "44f20b4b",
   "metadata": {},
   "outputs": [],
   "source": [
    "def get_label_for_patient(patient_id):\n",
    "    # assuming labels_df is already loaded outside this function\n",
    "    row = labels_df[labels_df['Participant_ID'] == patient_id]\n",
    "    if row.empty:\n",
    "        raise ValueError(f\"No label found for patient {patient_id}\")\n",
    "    return int(row['PHQ8_Binary'].values[0])  # or adjust column name accordingly\n"
   ]
  },
  {
   "cell_type": "code",
   "execution_count": 39,
   "id": "97e15666",
   "metadata": {},
   "outputs": [
    {
     "name": "stdout",
     "output_type": "stream",
     "text": [
      "   Participant_ID  PHQ8_Binary  PHQ8_Score  Gender  PHQ8_NoInterest  \\\n",
      "0             302            0           4       1                1   \n",
      "1             307            0           4       0                0   \n",
      "2             331            0           8       1                1   \n",
      "3             335            1          12       0                1   \n",
      "4             346            1          23       0                2   \n",
      "\n",
      "   PHQ8_Depressed  PHQ8_Sleep  PHQ8_Tired  PHQ8_Appetite  PHQ8_Failure  \\\n",
      "0               1           0           1              0             1   \n",
      "1               1           0           1              0             2   \n",
      "2               1           1           1              1             1   \n",
      "3               1           3           2              3             1   \n",
      "4               3           3           3              3             3   \n",
      "\n",
      "   PHQ8_Concentrating  PHQ8_Moving  \n",
      "0                   0            0  \n",
      "1                   0            0  \n",
      "2                   1            1  \n",
      "3                   1            0  \n",
      "4                   3            3  \n"
     ]
    }
   ],
   "source": [
    "import pandas as pd\n",
    "\n",
    "label_file = '/Users/Saravanan/patient data/dev_split_Depression_AVEC2017.csv'  # or full_test_split.csv etc.\n",
    "labels_df = pd.read_csv(label_file)\n",
    "\n",
    "print(labels_df.head())\n"
   ]
  },
  {
   "cell_type": "code",
   "execution_count": 48,
   "id": "80e8eec4",
   "metadata": {},
   "outputs": [
    {
     "name": "stdout",
     "output_type": "stream",
     "text": [
      "Labels found in /Users/Saravanan/patient data/dev_split_Depression_AVEC2017.csv:\n",
      "Empty DataFrame\n",
      "Columns: [Participant_ID, PHQ8_Binary, PHQ8_Score]\n",
      "Index: []\n",
      "--------------------------------------------------\n",
      "Labels found in /Users/Saravanan/patient data/train_split_Depression_AVEC2017.csv:\n",
      "   Participant_ID  PHQ8_Binary  PHQ8_Score\n",
      "0             303            0           0\n",
      "1             304            0           6\n",
      "3             310            0           4\n",
      "9             318            0           3\n",
      "10            319            1          13\n",
      "11            320            1          11\n",
      "12            321            1          20\n",
      "15            325            1          10\n",
      "17            327            0           4\n",
      "19            330            1          12\n",
      "22            338            1          15\n",
      "--------------------------------------------------\n",
      "Labels found in /Users/Saravanan/patient data/test_split_Depression_AVEC2017.csv:\n",
      "Empty DataFrame\n",
      "Columns: [participant_ID, Gender]\n",
      "Index: []\n",
      "--------------------------------------------------\n",
      "Labels found in /Users/Saravanan/patient data/full_test_split.csv:\n",
      "Empty DataFrame\n",
      "Columns: [Participant_ID, PHQ_Binary, PHQ_Score, Gender]\n",
      "Index: []\n",
      "--------------------------------------------------\n"
     ]
    }
   ],
   "source": [
    "import pandas as pd\n",
    "\n",
    "patient_ids = [319, 320, 321, 325, 330, 338, 303, 304, 310, 318, 327, 325, 303]\n",
    "patient_ids_str = [str(pid) for pid in patient_ids]\n",
    "\n",
    "label_files = [\n",
    "    '/Users/Saravanan/patient data/dev_split_Depression_AVEC2017.csv',\n",
    "    '/Users/Saravanan/patient data/train_split_Depression_AVEC2017.csv',\n",
    "    '/Users/Saravanan/patient data/test_split_Depression_AVEC2017.csv',\n",
    "    '/Users/Saravanan/patient data/full_test_split.csv'\n",
    "]\n",
    "\n",
    "for lf in label_files:\n",
    "    df = pd.read_csv(lf)\n",
    "    # Find possible Participant ID column (case insensitive search)\n",
    "    possible_cols = [col for col in df.columns if 'participant' in col.lower() and 'id' in col.lower()]\n",
    "    if not possible_cols:\n",
    "        print(f\"No Participant ID column found in {lf}\")\n",
    "        continue\n",
    "    pid_col = possible_cols[0]\n",
    "    # Convert to string for matching\n",
    "    df[pid_col] = df[pid_col].astype(str)\n",
    "    filtered = df[df[pid_col].isin(patient_ids_str)]\n",
    "    \n",
    "    print(f\"Labels found in {lf}:\")\n",
    "    if 'PHQ8_Binary' in df.columns and 'PHQ8_Score' in df.columns:\n",
    "        print(filtered[[pid_col, 'PHQ8_Binary', 'PHQ8_Score']])\n",
    "    else:\n",
    "        print(filtered.head())\n",
    "    print('-'*50)\n"
   ]
  },
  {
   "cell_type": "code",
   "execution_count": 49,
   "id": "ecd8ff36",
   "metadata": {},
   "outputs": [
    {
     "name": "stdout",
     "output_type": "stream",
     "text": [
      "Filtered labels:\n",
      "   Participant_ID  PHQ8_Binary  PHQ8_Score\n",
      "0             303            0           0\n",
      "1             304            0           6\n",
      "3             310            0           4\n",
      "9             318            0           3\n",
      "10            319            1          13\n",
      "11            320            1          11\n",
      "12            321            1          20\n",
      "15            325            1          10\n",
      "17            327            0           4\n",
      "19            330            1          12\n",
      "22            338            1          15\n"
     ]
    }
   ],
   "source": [
    "import pandas as pd\n",
    "\n",
    "# Your patient list (remove duplicates if needed)\n",
    "patient_ids = list(set([319, 320, 321, 325, 330, 338, 303, 304, 310, 318, 327]))\n",
    "\n",
    "# Load train split labels\n",
    "train_labels_path = '/Users/Saravanan/patient data/train_split_Depression_AVEC2017.csv'\n",
    "df_train = pd.read_csv(train_labels_path)\n",
    "\n",
    "# Filter labels for your patients\n",
    "df_train['Participant_ID'] = df_train['Participant_ID'].astype(str)\n",
    "patient_ids_str = [str(pid) for pid in patient_ids]\n",
    "\n",
    "filtered_labels = df_train[df_train['Participant_ID'].isin(patient_ids_str)][['Participant_ID', 'PHQ8_Binary', 'PHQ8_Score']]\n",
    "print(\"Filtered labels:\")\n",
    "print(filtered_labels)\n"
   ]
  },
  {
   "cell_type": "code",
   "execution_count": 50,
   "id": "f3fa8127",
   "metadata": {},
   "outputs": [
    {
     "name": "stdout",
     "output_type": "stream",
     "text": [
      "Combined features prepared for 0 patients\n"
     ]
    }
   ],
   "source": [
    "import numpy as np\n",
    "\n",
    "# Example: let's say you have two dictionaries with features per patient ID\n",
    "# audio_features = { '303': np.array([...]), '304': np.array([...]), ... }\n",
    "# text_embeddings = { '303': np.array([...]), '304': np.array([...]), ... }\n",
    "\n",
    "# Combine features only for patients where both audio and text features exist\n",
    "combined_features = {}\n",
    "for pid in patient_ids_str:\n",
    "    if pid in audio_features and pid in text_embeddings:\n",
    "        combined_features[pid] = np.concatenate([audio_features[pid], text_embeddings[pid]])\n",
    "\n",
    "print(f\"Combined features prepared for {len(combined_features)} patients\")\n"
   ]
  },
  {
   "cell_type": "code",
   "execution_count": 51,
   "id": "42b4d758",
   "metadata": {},
   "outputs": [
    {
     "name": "stdout",
     "output_type": "stream",
     "text": [
      "Feature matrix shape: (0,)\n",
      "Labels shape: (0,)\n"
     ]
    }
   ],
   "source": [
    "X = []\n",
    "y = []\n",
    "\n",
    "for pid in combined_features:\n",
    "    # Get label row for patient\n",
    "    label_row = filtered_labels[filtered_labels['Participant_ID'] == pid]\n",
    "    if not label_row.empty:\n",
    "        X.append(combined_features[pid])\n",
    "        y.append(label_row['PHQ8_Binary'].values[0])  # For classification task\n",
    "\n",
    "X = np.array(X)\n",
    "y = np.array(y)\n",
    "\n",
    "print(\"Feature matrix shape:\", X.shape)\n",
    "print(\"Labels shape:\", y.shape)\n"
   ]
  },
  {
   "cell_type": "code",
   "execution_count": 52,
   "id": "f5ce7ce9",
   "metadata": {},
   "outputs": [
    {
     "ename": "ValueError",
     "evalue": "With n_samples=0, test_size=0.2 and train_size=None, the resulting train set will be empty. Adjust any of the aforementioned parameters.",
     "output_type": "error",
     "traceback": [
      "\u001b[0;31m---------------------------------------------------------------------------\u001b[0m",
      "\u001b[0;31mValueError\u001b[0m                                Traceback (most recent call last)",
      "Input \u001b[0;32mIn [52]\u001b[0m, in \u001b[0;36m<cell line: 5>\u001b[0;34m()\u001b[0m\n\u001b[1;32m      2\u001b[0m \u001b[38;5;28;01mfrom\u001b[39;00m\u001b[38;5;250m \u001b[39m\u001b[38;5;21;01msklearn\u001b[39;00m\u001b[38;5;21;01m.\u001b[39;00m\u001b[38;5;21;01mensemble\u001b[39;00m\u001b[38;5;250m \u001b[39m\u001b[38;5;28;01mimport\u001b[39;00m RandomForestClassifier\n\u001b[1;32m      3\u001b[0m \u001b[38;5;28;01mfrom\u001b[39;00m\u001b[38;5;250m \u001b[39m\u001b[38;5;21;01msklearn\u001b[39;00m\u001b[38;5;21;01m.\u001b[39;00m\u001b[38;5;21;01mmetrics\u001b[39;00m\u001b[38;5;250m \u001b[39m\u001b[38;5;28;01mimport\u001b[39;00m classification_report, accuracy_score\n\u001b[0;32m----> 5\u001b[0m X_train, X_test, y_train, y_test \u001b[38;5;241m=\u001b[39m \u001b[43mtrain_test_split\u001b[49m\u001b[43m(\u001b[49m\u001b[43mX\u001b[49m\u001b[43m,\u001b[49m\u001b[43m \u001b[49m\u001b[43my\u001b[49m\u001b[43m,\u001b[49m\u001b[43m \u001b[49m\u001b[43mtest_size\u001b[49m\u001b[38;5;241;43m=\u001b[39;49m\u001b[38;5;241;43m0.2\u001b[39;49m\u001b[43m,\u001b[49m\u001b[43m \u001b[49m\u001b[43mrandom_state\u001b[49m\u001b[38;5;241;43m=\u001b[39;49m\u001b[38;5;241;43m42\u001b[39;49m\u001b[43m)\u001b[49m\n\u001b[1;32m      7\u001b[0m clf \u001b[38;5;241m=\u001b[39m RandomForestClassifier(n_estimators\u001b[38;5;241m=\u001b[39m\u001b[38;5;241m100\u001b[39m, random_state\u001b[38;5;241m=\u001b[39m\u001b[38;5;241m42\u001b[39m)\n\u001b[1;32m      8\u001b[0m clf\u001b[38;5;241m.\u001b[39mfit(X_train, y_train)\n",
      "File \u001b[0;32m~/opt/anaconda3/lib/python3.9/site-packages/sklearn/model_selection/_split.py:2420\u001b[0m, in \u001b[0;36mtrain_test_split\u001b[0;34m(test_size, train_size, random_state, shuffle, stratify, *arrays)\u001b[0m\n\u001b[1;32m   2417\u001b[0m arrays \u001b[38;5;241m=\u001b[39m indexable(\u001b[38;5;241m*\u001b[39marrays)\n\u001b[1;32m   2419\u001b[0m n_samples \u001b[38;5;241m=\u001b[39m _num_samples(arrays[\u001b[38;5;241m0\u001b[39m])\n\u001b[0;32m-> 2420\u001b[0m n_train, n_test \u001b[38;5;241m=\u001b[39m \u001b[43m_validate_shuffle_split\u001b[49m\u001b[43m(\u001b[49m\n\u001b[1;32m   2421\u001b[0m \u001b[43m    \u001b[49m\u001b[43mn_samples\u001b[49m\u001b[43m,\u001b[49m\u001b[43m \u001b[49m\u001b[43mtest_size\u001b[49m\u001b[43m,\u001b[49m\u001b[43m \u001b[49m\u001b[43mtrain_size\u001b[49m\u001b[43m,\u001b[49m\u001b[43m \u001b[49m\u001b[43mdefault_test_size\u001b[49m\u001b[38;5;241;43m=\u001b[39;49m\u001b[38;5;241;43m0.25\u001b[39;49m\n\u001b[1;32m   2422\u001b[0m \u001b[43m\u001b[49m\u001b[43m)\u001b[49m\n\u001b[1;32m   2424\u001b[0m \u001b[38;5;28;01mif\u001b[39;00m shuffle \u001b[38;5;129;01mis\u001b[39;00m \u001b[38;5;28;01mFalse\u001b[39;00m:\n\u001b[1;32m   2425\u001b[0m     \u001b[38;5;28;01mif\u001b[39;00m stratify \u001b[38;5;129;01mis\u001b[39;00m \u001b[38;5;129;01mnot\u001b[39;00m \u001b[38;5;28;01mNone\u001b[39;00m:\n",
      "File \u001b[0;32m~/opt/anaconda3/lib/python3.9/site-packages/sklearn/model_selection/_split.py:2098\u001b[0m, in \u001b[0;36m_validate_shuffle_split\u001b[0;34m(n_samples, test_size, train_size, default_test_size)\u001b[0m\n\u001b[1;32m   2095\u001b[0m n_train, n_test \u001b[38;5;241m=\u001b[39m \u001b[38;5;28mint\u001b[39m(n_train), \u001b[38;5;28mint\u001b[39m(n_test)\n\u001b[1;32m   2097\u001b[0m \u001b[38;5;28;01mif\u001b[39;00m n_train \u001b[38;5;241m==\u001b[39m \u001b[38;5;241m0\u001b[39m:\n\u001b[0;32m-> 2098\u001b[0m     \u001b[38;5;28;01mraise\u001b[39;00m \u001b[38;5;167;01mValueError\u001b[39;00m(\n\u001b[1;32m   2099\u001b[0m         \u001b[38;5;124m\"\u001b[39m\u001b[38;5;124mWith n_samples=\u001b[39m\u001b[38;5;132;01m{}\u001b[39;00m\u001b[38;5;124m, test_size=\u001b[39m\u001b[38;5;132;01m{}\u001b[39;00m\u001b[38;5;124m and train_size=\u001b[39m\u001b[38;5;132;01m{}\u001b[39;00m\u001b[38;5;124m, the \u001b[39m\u001b[38;5;124m\"\u001b[39m\n\u001b[1;32m   2100\u001b[0m         \u001b[38;5;124m\"\u001b[39m\u001b[38;5;124mresulting train set will be empty. Adjust any of the \u001b[39m\u001b[38;5;124m\"\u001b[39m\n\u001b[1;32m   2101\u001b[0m         \u001b[38;5;124m\"\u001b[39m\u001b[38;5;124maforementioned parameters.\u001b[39m\u001b[38;5;124m\"\u001b[39m\u001b[38;5;241m.\u001b[39mformat(n_samples, test_size, train_size)\n\u001b[1;32m   2102\u001b[0m     )\n\u001b[1;32m   2104\u001b[0m \u001b[38;5;28;01mreturn\u001b[39;00m n_train, n_test\n",
      "\u001b[0;31mValueError\u001b[0m: With n_samples=0, test_size=0.2 and train_size=None, the resulting train set will be empty. Adjust any of the aforementioned parameters."
     ]
    }
   ],
   "source": [
    "from sklearn.model_selection import train_test_split\n",
    "from sklearn.ensemble import RandomForestClassifier\n",
    "from sklearn.metrics import classification_report, accuracy_score\n",
    "\n",
    "X_train, X_test, y_train, y_test = train_test_split(X, y, test_size=0.2, random_state=42)\n",
    "\n",
    "clf = RandomForestClassifier(n_estimators=100, random_state=42)\n",
    "clf.fit(X_train, y_train)\n",
    "\n",
    "y_pred = clf.predict(X_test)\n",
    "print(\"Accuracy:\", accuracy_score(y_test, y_pred))\n",
    "print(classification_report(y_test, y_pred))\n"
   ]
  },
  {
   "cell_type": "code",
   "execution_count": 53,
   "id": "cf717a3e",
   "metadata": {},
   "outputs": [
    {
     "name": "stdout",
     "output_type": "stream",
     "text": [
      "Audio feature patient IDs: []\n",
      "Text embedding patient IDs: [320, 321, 325, 327, 330, 303, 304, 338, 310, 318, 319]\n",
      "Patient IDs you want: ['320', '321', '325', '327', '330', '303', '304', '338', '310', '318', '319']\n"
     ]
    }
   ],
   "source": [
    "print(\"Audio feature patient IDs:\", list(audio_features.keys()))\n",
    "print(\"Text embedding patient IDs:\", list(text_embeddings.keys()))\n",
    "print(\"Patient IDs you want:\", patient_ids_str)\n"
   ]
  },
  {
   "cell_type": "code",
   "execution_count": 54,
   "id": "ae299699",
   "metadata": {},
   "outputs": [
    {
     "name": "stdout",
     "output_type": "stream",
     "text": [
      "Text embeddings for 320: shape (768,)\n",
      "Text embeddings for 321: shape (768,)\n"
     ]
    }
   ],
   "source": [
    "for pid in list(audio_features.keys())[:2]:\n",
    "    print(f\"Audio features for {pid}: shape {audio_features[pid].shape}\")\n",
    "\n",
    "for pid in list(text_embeddings.keys())[:2]:\n",
    "    print(f\"Text embeddings for {pid}: shape {text_embeddings[pid].shape}\")\n"
   ]
  },
  {
   "cell_type": "code",
   "execution_count": 55,
   "id": "8289d8fb",
   "metadata": {},
   "outputs": [],
   "source": [
    "text_embeddings = {str(k): v for k, v in text_embeddings.items()}\n"
   ]
  },
  {
   "cell_type": "code",
   "execution_count": 15,
   "id": "d4c4d88c",
   "metadata": {},
   "outputs": [],
   "source": [
    "# normal classification\n"
   ]
  },
  {
   "cell_type": "code",
   "execution_count": 49,
   "id": "6217568f",
   "metadata": {},
   "outputs": [
    {
     "name": "stdout",
     "output_type": "stream",
     "text": [
      "✅ Loaded data for patient 319\n",
      "✅ Loaded data for patient 320\n",
      "✅ Loaded data for patient 321\n",
      "✅ Loaded data for patient 325\n",
      "✅ Loaded data for patient 330\n",
      "✅ Loaded data for patient 338\n",
      "✅ Loaded data for patient 303\n",
      "✅ Loaded data for patient 304\n",
      "✅ Loaded data for patient 310\n",
      "✅ Loaded data for patient 318\n",
      "✅ Loaded data for patient 327\n",
      "✅ Loaded data for patient 325\n",
      "✅ Loaded data for patient 303\n"
     ]
    }
   ],
   "source": [
    "import os\n",
    "import pandas as pd\n",
    "\n",
    "base_path = '/Users/Saravanan/patient data/'\n",
    "patient_ids = [319, 320, 321, 325, 330, 338, 303, 304, 310, 318,327,325,303]\n",
    "file_types = ['COVAREP', 'FORMANT']\n",
    "\n",
    "features = []\n",
    "labels = []  # Modify this if you have PHQ-8 scores or binary depression labels\n",
    "\n",
    "for pid in patient_ids:\n",
    "    try:\n",
    "        covarep_file = os.path.join(base_path, f\"{pid}_COVAREP.csv\")\n",
    "        formant_file = os.path.join(base_path, f\"{pid}_FORMANT.csv\")\n",
    "\n",
    "        covarep_df = pd.read_csv(covarep_file)\n",
    "        formant_df = pd.read_csv(formant_file)\n",
    "\n",
    "        # Basic preprocessing (averaging across time steps)\n",
    "        covarep_mean = covarep_df.mean(numeric_only=True)\n",
    "        formant_mean = formant_df.mean(numeric_only=True)\n",
    "\n",
    "        combined_features = pd.concat([covarep_mean, formant_mean])\n",
    "        features.append(combined_features)\n",
    "\n",
    "        # Placeholder label (example: 1 = depressed, 0 = not)\n",
    "        # 👉 Replace this logic based on your real labels\n",
    "        labels.append(1 if pid in [330, 318, 357] else 0)\n",
    "\n",
    "        print(f\"✅ Loaded data for patient {pid}\")\n",
    "\n",
    "    except Exception as e:\n",
    "        print(f\"❌ Failed to load data for patient {pid}: {e}\")\n",
    "\n",
    "# Final dataset\n",
    "X = pd.DataFrame(features)\n",
    "y = pd.Series(labels)\n"
   ]
  },
  {
   "cell_type": "code",
   "execution_count": 50,
   "id": "8418818e",
   "metadata": {},
   "outputs": [
    {
     "name": "stdout",
     "output_type": "stream",
     "text": [
      "✅ Feature shape: (9, 79)\n"
     ]
    }
   ],
   "source": [
    "import os\n",
    "import pandas as pd\n",
    "import numpy as np\n",
    "from sklearn.ensemble import RandomForestClassifier\n",
    "from sklearn.model_selection import train_test_split\n",
    "from sklearn.metrics import classification_report, accuracy_score\n",
    "\n",
    "# Path and Patient IDs\n",
    "base_path = '/Users/Saravanan/patient data/'\n",
    "patient_ids = [319, 320, 321,330, 338,304, 310, 318, 327]  # 312 removed\n",
    "\n",
    "X = []\n",
    "y = []  # Placeholder for labels (e.g., 0 = not depressed, 1 = depressed)\n",
    "\n",
    "for pid in patient_ids:\n",
    "    try:\n",
    "        covarep_file = os.path.join(base_path, f'{pid}_COVAREP.csv')\n",
    "        formant_file = os.path.join(base_path, f'{pid}_FORMANT.csv')\n",
    "        \n",
    "        df_covarep = pd.read_csv(covarep_file).dropna()\n",
    "        df_formant = pd.read_csv(formant_file).dropna()\n",
    "\n",
    "        # Average across time (rows) to make a fixed-size feature vector\n",
    "        covarep_mean = df_covarep.mean().values\n",
    "        formant_mean = df_formant.mean().values\n",
    "\n",
    "        features = np.concatenate([covarep_mean, formant_mean])\n",
    "        X.append(features)\n",
    "\n",
    "        # Dummy binary label (randomized just for example)\n",
    "        y.append(np.random.randint(0, 2))  # Replace with actual labels when available\n",
    "\n",
    "    except Exception as e:\n",
    "        print(f\"❌ Patient {pid}: Failed to load/merge data – {e}\")\n",
    "\n",
    "X = np.array(X)\n",
    "y = np.array(y)\n",
    "print(\"✅ Feature shape:\", X.shape)\n"
   ]
  },
  {
   "cell_type": "code",
   "execution_count": 51,
   "id": "2c244401",
   "metadata": {},
   "outputs": [
    {
     "name": "stdout",
     "output_type": "stream",
     "text": [
      "✅ Accuracy: 0.3333333333333333\n",
      "📊 Classification Report:\n",
      "               precision    recall  f1-score   support\n",
      "\n",
      "           0       0.50      0.50      0.50         2\n",
      "           1       0.00      0.00      0.00         1\n",
      "\n",
      "    accuracy                           0.33         3\n",
      "   macro avg       0.25      0.25      0.25         3\n",
      "weighted avg       0.33      0.33      0.33         3\n",
      "\n"
     ]
    }
   ],
   "source": [
    "# Split dataset\n",
    "X_train, X_test, y_train, y_test = train_test_split(\n",
    "    X, y, test_size=0.3, random_state=42\n",
    ")\n",
    "\n",
    "# Random Forest Classifier\n",
    "rf_model = RandomForestClassifier(n_estimators=100, random_state=42)\n",
    "rf_model.fit(X_train, y_train)\n",
    "\n",
    "# Predict & Evaluate\n",
    "y_pred = rf_model.predict(X_test)\n",
    "print(\"✅ Accuracy:\", accuracy_score(y_test, y_pred))\n",
    "print(\"📊 Classification Report:\\n\", classification_report(y_test, y_pred))\n"
   ]
  },
  {
   "cell_type": "code",
   "execution_count": null,
   "id": "59f857ba",
   "metadata": {},
   "outputs": [],
   "source": [
    "# trying diffrent models..."
   ]
  },
  {
   "cell_type": "code",
   "execution_count": 53,
   "id": "bac2eab4",
   "metadata": {},
   "outputs": [
    {
     "name": "stdout",
     "output_type": "stream",
     "text": [
      "Patients in label file: [302, 307, 331, 335, 346, 367, 377, 381, 382, 388, 389, 390, 395, 403, 404, 406, 413, 417, 418, 420, 422, 436, 439, 440, 451, 458, 472, 476, 477, 482, 483, 484, 489, 490, 492]\n",
      "Patients we tried to load: [303, 304, 310, 318, 319, 320, 321, 325, 327, 330, 338, 357]\n",
      "Matched patient IDs: []\n",
      "Number of matched samples: 0\n"
     ]
    }
   ],
   "source": [
    "print(\"Patients in label file:\", sorted(label_dict.keys()))\n",
    "print(\"Patients we tried to load:\", sorted(patient_ids))\n",
    "print(\"Matched patient IDs:\", valid_ids)\n",
    "print(\"Number of matched samples:\", len(X))\n"
   ]
  },
  {
   "cell_type": "code",
   "execution_count": 6,
   "id": "a8c3ed88",
   "metadata": {},
   "outputs": [
    {
     "name": "stdout",
     "output_type": "stream",
     "text": [
      "Patients with features: [303, 304, 310, 318, 319, 320, 321, 325, 327, 330, 338]\n",
      "Patients with labels & features: []\n",
      "Loaded features for 0 patients.\n",
      "Not enough patients to train/test split. Need at least 2.\n"
     ]
    }
   ],
   "source": [
    "import os\n",
    "import pandas as pd\n",
    "import numpy as np\n",
    "from sklearn.model_selection import train_test_split\n",
    "from sklearn.ensemble import RandomForestClassifier\n",
    "import matplotlib.pyplot as plt\n",
    "\n",
    "base_path = '/Users/Saravanan/patient data/'\n",
    "\n",
    "# Patients you said you have features for:\n",
    "patients_with_features = [303, 304, 310, 318, 319, 320, 321, 325, 327, 330, 338]\n",
    "\n",
    "# Load labels file\n",
    "label_file = os.path.join(base_path, 'dev_split_Depression_AVEC2017.csv')\n",
    "label_df = pd.read_csv(label_file)\n",
    "label_df['Participant_ID'] = label_df['Participant_ID'].astype(int)\n",
    "\n",
    "# Keep labels only for patients with features\n",
    "label_df = label_df[label_df['Participant_ID'].isin(patients_with_features)]\n",
    "\n",
    "print(f\"Patients with features: {patients_with_features}\")\n",
    "print(f\"Patients with labels & features: {label_df['Participant_ID'].tolist()}\")\n",
    "\n",
    "# Now load features for these patients\n",
    "def load_features(patient_id):\n",
    "    # Try loading COVAREP as example; you can extend to others\n",
    "    covarep_file = os.path.join(base_path, f\"{patient_id}_COVAREP.csv\")\n",
    "    if os.path.exists(covarep_file):\n",
    "        df = pd.read_csv(covarep_file)\n",
    "        return df.mean().values  # mean of each feature column as a vector\n",
    "    else:\n",
    "        print(f\"No COVAREP for patient {patient_id}, skipping\")\n",
    "        return None\n",
    "\n",
    "X = []\n",
    "y = []\n",
    "used_patients = []\n",
    "\n",
    "for pid in label_df['Participant_ID']:\n",
    "    features = load_features(pid)\n",
    "    if features is not None:\n",
    "        X.append(features)\n",
    "        label = label_df[label_df['Participant_ID'] == pid]['PHQ8_Binary'].values[0]\n",
    "        y.append(label)\n",
    "        used_patients.append(pid)\n",
    "\n",
    "X = np.array(X)\n",
    "y = np.array(y)\n",
    "\n",
    "print(f\"Loaded features for {len(used_patients)} patients.\")\n",
    "\n",
    "if len(used_patients) < 2:\n",
    "    print(\"Not enough patients to train/test split. Need at least 2.\")\n",
    "else:\n",
    "    # Train/test split\n",
    "    X_train, X_test, y_train, y_test = train_test_split(X, y, test_size=0.2, random_state=42)\n",
    "\n",
    "    # Train Random Forest\n",
    "    rf = RandomForestClassifier(n_estimators=100, random_state=42)\n",
    "    rf.fit(X_train, y_train)\n",
    "\n",
    "    # Feature importance plot\n",
    "    importances = rf.feature_importances_\n",
    "    plt.figure(figsize=(10,5))\n",
    "    plt.bar(range(len(importances)), importances)\n",
    "    plt.xlabel('Feature Index')\n",
    "    plt.ylabel('Importance')\n",
    "    plt.title('Random Forest Feature Importances')\n",
    "    plt.show()\n"
   ]
  },
  {
   "cell_type": "code",
   "execution_count": 57,
   "id": "dd0bade1",
   "metadata": {},
   "outputs": [],
   "source": [
    "# test samples"
   ]
  },
  {
   "cell_type": "code",
   "execution_count": 58,
   "id": "61980adc",
   "metadata": {},
   "outputs": [
    {
     "name": "stdout",
     "output_type": "stream",
     "text": [
      "Patient 320 assigned to cluster 1\n",
      "Patient 321 assigned to cluster 0\n",
      "Patient 325 assigned to cluster 1\n",
      "Patient 327 assigned to cluster 0\n",
      "Patient 330 assigned to cluster 1\n",
      "Patient 303 assigned to cluster 0\n",
      "Patient 304 assigned to cluster 0\n",
      "Patient 338 assigned to cluster 0\n",
      "Patient 310 assigned to cluster 1\n",
      "Patient 318 assigned to cluster 0\n",
      "Patient 319 assigned to cluster 1\n"
     ]
    }
   ],
   "source": [
    "from sklearn.cluster import KMeans\n",
    "import numpy as np\n",
    "\n",
    "# Assuming text_embeddings dict: keys = patient IDs (str), values = feature vectors (np.array)\n",
    "\n",
    "X = np.array(list(text_embeddings.values()))\n",
    "patient_list = list(text_embeddings.keys())\n",
    "\n",
    "kmeans = KMeans(n_clusters=2, random_state=42)\n",
    "clusters = kmeans.fit_predict(X)\n",
    "\n",
    "for pid, cluster in zip(patient_list, clusters):\n",
    "    print(f\"Patient {pid} assigned to cluster {cluster}\")\n"
   ]
  },
  {
   "cell_type": "code",
   "execution_count": 63,
   "id": "eec0c227",
   "metadata": {},
   "outputs": [
    {
     "name": "stdout",
     "output_type": "stream",
     "text": [
      "Patients with both features and labels: ['325', '338', '304', '327', '310', '320', '330', '321', '319', '303', '318']\n"
     ]
    }
   ],
   "source": [
    "# Assuming text_embeddings is dict: {patient_id_str: feature_vector}\n",
    "\n",
    "# Labels DataFrame example (from train_split_Depression_AVEC2017.csv)\n",
    "labels_df = pd.read_csv('/Users/Saravanan/patient data/train_split_Depression_AVEC2017.csv')\n",
    "\n",
    "# Convert patient IDs to str to match keys in text_embeddings\n",
    "labels_df['Participant_ID'] = labels_df['Participant_ID'].astype(str)\n",
    "\n",
    "# Get patient IDs with features\n",
    "feature_patient_ids = set(text_embeddings.keys())\n",
    "\n",
    "# Get patient IDs with labels\n",
    "label_patient_ids = set(labels_df['Participant_ID'].tolist())\n",
    "\n",
    "# Intersection = patients who have both\n",
    "patient_ids_with_features_and_labels = list(feature_patient_ids.intersection(label_patient_ids))\n",
    "\n",
    "print(f\"Patients with both features and labels: {patient_ids_with_features_and_labels}\")\n"
   ]
  },
  {
   "cell_type": "code",
   "execution_count": 66,
   "id": "f05f23db",
   "metadata": {},
   "outputs": [],
   "source": [
    "# Example: features dictionary (patient_id as str -> numpy array or list of features)\n",
    "features = {\n",
    "    '325': [0.1, 0.2, 0.3],\n",
    "    '338': [0.4, 0.5, 0.6],\n",
    "    # ... and so on for all patients\n",
    "}\n",
    "\n",
    "# Example: labels dictionary (patient_id as str -> label)\n",
    "labels = {\n",
    "    '325': 1,\n",
    "    '338': 0,\n",
    "    # ... etc\n",
    "}\n",
    "\n",
    "patients_with_both = ['325', '338', '304', '327', '310', '320', '330', '321', '319', '303', '318']\n",
    "\n",
    "X = []\n",
    "y = []\n",
    "\n",
    "for pid in patients_with_both:\n",
    "    if pid in features and pid in labels:\n",
    "        X.append(features[pid])\n",
    "        y.append(labels[pid])\n",
    "\n",
    "# Now you can use X and y for classification, clustering, etc.\n"
   ]
  },
  {
   "cell_type": "code",
   "execution_count": 67,
   "id": "90dea0cf",
   "metadata": {},
   "outputs": [
    {
     "name": "stdout",
     "output_type": "stream",
     "text": [
      "Feature matrix shape: (11, 768), Labels shape: (11,)\n"
     ]
    }
   ],
   "source": [
    "X = []\n",
    "y = []\n",
    "\n",
    "for pid in patient_ids_with_features_and_labels:\n",
    "    X.append(text_embeddings[pid])\n",
    "    label_row = labels_df[labels_df['Participant_ID'] == pid]\n",
    "    y.append(label_row['PHQ8_Binary'].values[0])  # or use PHQ8_Score if you want regression\n",
    "\n",
    "X = np.array(X)\n",
    "y = np.array(y)\n",
    "\n",
    "print(f\"Feature matrix shape: {X.shape}, Labels shape: {y.shape}\")\n"
   ]
  },
  {
   "cell_type": "code",
   "execution_count": 68,
   "id": "7dd97641",
   "metadata": {},
   "outputs": [
    {
     "name": "stdout",
     "output_type": "stream",
     "text": [
      "LOOCV Accuracy: 0.45\n",
      "Classification Report:\n",
      "              precision    recall  f1-score   support\n",
      "\n",
      "           0       0.33      0.20      0.25         5\n",
      "           1       0.50      0.67      0.57         6\n",
      "\n",
      "    accuracy                           0.45        11\n",
      "   macro avg       0.42      0.43      0.41        11\n",
      "weighted avg       0.42      0.45      0.43        11\n",
      "\n"
     ]
    }
   ],
   "source": [
    "from sklearn.linear_model import LogisticRegression\n",
    "from sklearn.model_selection import LeaveOneOut\n",
    "from sklearn.metrics import accuracy_score, classification_report\n",
    "import numpy as np\n",
    "\n",
    "X = np.array(X)\n",
    "y = np.array(y)\n",
    "\n",
    "loo = LeaveOneOut()\n",
    "y_true, y_pred = [], []\n",
    "\n",
    "for train_index, test_index in loo.split(X):\n",
    "    X_train, X_test = X[train_index], X[test_index]\n",
    "    y_train, y_test = y[train_index], y[test_index]\n",
    "    \n",
    "    clf = LogisticRegression(max_iter=1000)\n",
    "    clf.fit(X_train, y_train)\n",
    "    \n",
    "    pred = clf.predict(X_test)\n",
    "    y_true.append(y_test[0])\n",
    "    y_pred.append(pred[0])\n",
    "\n",
    "acc = accuracy_score(y_true, y_pred)\n",
    "print(f\"LOOCV Accuracy: {acc:.2f}\")\n",
    "\n",
    "print(\"Classification Report:\")\n",
    "print(classification_report(y_true, y_pred))\n"
   ]
  },
  {
   "cell_type": "code",
   "execution_count": 69,
   "id": "4167381b",
   "metadata": {},
   "outputs": [],
   "source": [
    "# Why LOOCV here?\n",
    "# Your dataset is very small, so this gives a better estimate of model performance."
   ]
  },
  {
   "cell_type": "code",
   "execution_count": 70,
   "id": "3de90d5d",
   "metadata": {},
   "outputs": [
    {
     "name": "stdout",
     "output_type": "stream",
     "text": [
      "Cluster assignments: [1 0 0 0 1 1 1 0 1 0 0]\n",
      "Silhouette Score for k=2: 0.179\n"
     ]
    }
   ],
   "source": [
    "from sklearn.cluster import KMeans\n",
    "from sklearn.metrics import silhouette_score\n",
    "import numpy as np\n",
    "\n",
    "X = np.array(X)\n",
    "\n",
    "# Try clustering into 2 clusters (for example)\n",
    "k = 2\n",
    "kmeans = KMeans(n_clusters=k, random_state=42)\n",
    "clusters = kmeans.fit_predict(X)\n",
    "\n",
    "print(\"Cluster assignments:\", clusters)\n",
    "\n",
    "# Evaluate clustering quality using Silhouette Score\n",
    "score = silhouette_score(X, clusters)\n",
    "print(f\"Silhouette Score for k={k}: {score:.3f}\")\n"
   ]
  },
  {
   "cell_type": "code",
   "execution_count": 71,
   "id": "2b8a27d5",
   "metadata": {},
   "outputs": [
    {
     "name": "stdout",
     "output_type": "stream",
     "text": [
      "Adjusted Rand Index: 0.120\n"
     ]
    }
   ],
   "source": [
    "from sklearn.metrics import adjusted_rand_score\n",
    "\n",
    "ari = adjusted_rand_score(y, clusters)\n",
    "print(f\"Adjusted Rand Index: {ari:.3f}\")\n"
   ]
  },
  {
   "cell_type": "code",
   "execution_count": 72,
   "id": "77b685e2",
   "metadata": {},
   "outputs": [
    {
     "name": "stdout",
     "output_type": "stream",
     "text": [
      "Silhouette Score for k=2: 0.179\n",
      "Silhouette Score for k=3: 0.161\n",
      "Silhouette Score for k=4: 0.135\n",
      "Silhouette Score for k=5: 0.130\n",
      "Silhouette Score for k=6: 0.084\n"
     ]
    },
    {
     "data": {
      "image/png": "[encoded data removed]",
      "text/plain": [
       "<Figure size 576x360 with 1 Axes>"
      ]
     },
     "metadata": {
      "needs_background": "light"
     },
     "output_type": "display_data"
    },
    {
     "name": "stdout",
     "output_type": "stream",
     "text": [
      "Best k by silhouette score: 2\n",
      "Final cluster assignments: [1 0 0 0 1 1 1 0 1 0 0]\n",
      "Adjusted Rand Index (ARI): 0.120\n"
     ]
    },
    {
     "data": {
      "image/png": "[encoded data removed]",
      "text/plain": [
       "<Figure size 576x432 with 1 Axes>"
      ]
     },
     "metadata": {
      "needs_background": "light"
     },
     "output_type": "display_data"
    }
   ],
   "source": [
    "import numpy as np\n",
    "import matplotlib.pyplot as plt\n",
    "from sklearn.cluster import KMeans\n",
    "from sklearn.metrics import silhouette_score, adjusted_rand_score\n",
    "from sklearn.decomposition import PCA\n",
    "\n",
    "# X = feature matrix, y = true labels (both should be numpy arrays)\n",
    "# Example: X.shape = (11, 768), y.shape = (11,)\n",
    "\n",
    "# Step 1: Find best k using Silhouette Score\n",
    "silhouette_scores = []\n",
    "K_range = range(2, 7)  # test k from 2 to 6\n",
    "\n",
    "for k in K_range:\n",
    "    kmeans = KMeans(n_clusters=k, random_state=42)\n",
    "    cluster_labels = kmeans.fit_predict(X)\n",
    "    score = silhouette_score(X, cluster_labels)\n",
    "    silhouette_scores.append(score)\n",
    "    print(f\"Silhouette Score for k={k}: {score:.3f}\")\n",
    "\n",
    "# Plot Silhouette scores vs k\n",
    "plt.figure(figsize=(8, 5))\n",
    "plt.plot(K_range, silhouette_scores, marker='o')\n",
    "plt.title(\"Silhouette Scores for different k\")\n",
    "plt.xlabel(\"Number of clusters (k)\")\n",
    "plt.ylabel(\"Silhouette Score\")\n",
    "plt.grid(True)\n",
    "plt.show()\n",
    "\n",
    "# Step 2: Choose best k (here taking max silhouette score)\n",
    "best_k = K_range[np.argmax(silhouette_scores)]\n",
    "print(f\"Best k by silhouette score: {best_k}\")\n",
    "\n",
    "# Step 3: Final K-Means with best k\n",
    "kmeans_final = KMeans(n_clusters=best_k, random_state=42)\n",
    "clusters_final = kmeans_final.fit_predict(X)\n",
    "print(\"Final cluster assignments:\", clusters_final)\n",
    "\n",
    "# Step 4: Evaluate clustering vs true labels\n",
    "ari = adjusted_rand_score(y, clusters_final)\n",
    "print(f\"Adjusted Rand Index (ARI): {ari:.3f}\")\n",
    "\n",
    "# Step 5: Visualize clusters using PCA (reduce to 2D)\n",
    "pca = PCA(n_components=2, random_state=42)\n",
    "X_pca = pca.fit_transform(X)\n",
    "\n",
    "plt.figure(figsize=(8, 6))\n",
    "for cluster_id in range(best_k):\n",
    "    plt.scatter(\n",
    "        X_pca[clusters_final == cluster_id, 0], \n",
    "        X_pca[clusters_final == cluster_id, 1], \n",
    "        label=f\"Cluster {cluster_id}\"\n",
    "    )\n",
    "plt.title(\"K-Means Clusters visualized with PCA (2D)\")\n",
    "plt.xlabel(\"PCA component 1\")\n",
    "plt.ylabel(\"PCA component 2\")\n",
    "plt.legend()\n",
    "plt.grid(True)\n",
    "plt.show()\n"
   ]
  },
  {
   "cell_type": "code",
   "execution_count": null,
   "id": "ff514123",
   "metadata": {},
   "outputs": [],
   "source": []
  },
  {
   "cell_type": "code",
   "execution_count": 77,
   "id": "949f7a27",
   "metadata": {},
   "outputs": [
    {
     "name": "stdout",
     "output_type": "stream",
     "text": [
      "✅ Loaded data for patient 319\n",
      "✅ Loaded data for patient 320\n",
      "✅ Loaded data for patient 321\n",
      "✅ Loaded data for patient 325\n",
      "✅ Loaded data for patient 330\n",
      "✅ Loaded data for patient 338\n",
      "✅ Loaded data for patient 303\n",
      "✅ Loaded data for patient 304\n",
      "✅ Loaded data for patient 310\n",
      "✅ Loaded data for patient 318\n",
      "✅ Loaded data for patient 327\n",
      "✅ Loaded data for patient 325\n",
      "✅ Loaded data for patient 303\n",
      "✅ Loaded data for patient 306\n",
      "✅ Loaded data for patient 308\n",
      "✅ Loaded data for patient 309\n",
      "✅ Loaded data for patient 311\n",
      "✅ Loaded data for patient 313\n",
      "✅ Loaded data for patient 314\n",
      "✅ Loaded data for patient 315\n",
      "✅ Loaded data for patient 317\n",
      "✅ Loaded data for patient 335\n"
     ]
    }
   ],
   "source": [
    "import os\n",
    "import pandas as pd\n",
    "\n",
    "base_path = '/Users/Saravanan/patient data/'\n",
    "patient_ids = [319, 320, 321, 325, 330, 338, 303, 304, 310, 318,327,325,303,306,308,309,311,313,314,315,317,335]\n",
    "file_types = ['COVAREP', 'FORMANT']\n",
    "\n",
    "features = []\n",
    "labels = []  # Modify this if you have PHQ-8 scores or binary depression labels\n",
    "\n",
    "for pid in patient_ids:\n",
    "    try:\n",
    "        covarep_file = os.path.join(base_path, f\"{pid}_COVAREP.csv\")\n",
    "        formant_file = os.path.join(base_path, f\"{pid}_FORMANT.csv\")\n",
    "\n",
    "        covarep_df = pd.read_csv(covarep_file)\n",
    "        formant_df = pd.read_csv(formant_file)\n",
    "\n",
    "        # Basic preprocessing (averaging across time steps)\n",
    "        covarep_mean = covarep_df.mean(numeric_only=True)\n",
    "        formant_mean = formant_df.mean(numeric_only=True)\n",
    "\n",
    "        combined_features = pd.concat([covarep_mean, formant_mean])\n",
    "        features.append(combined_features)\n",
    "\n",
    "        # Placeholder label (example: 1 = depressed, 0 = not)\n",
    "        # 👉 Replace this logic based on your real labels\n",
    "        labels.append(1 if pid in [330, 318, 357] else 0)\n",
    "\n",
    "        print(f\"✅ Loaded data for patient {pid}\")\n",
    "\n",
    "    except Exception as e:\n",
    "        print(f\"❌ Failed to load data for patient {pid}: {e}\")\n",
    "\n",
    "# Final dataset\n",
    "X = pd.DataFrame(features)\n",
    "y = pd.Series(labels)\n"
   ]
  },
  {
   "cell_type": "code",
   "execution_count": 78,
   "id": "6639e783",
   "metadata": {},
   "outputs": [
    {
     "name": "stdout",
     "output_type": "stream",
     "text": [
      "✅ Feature shape: (22, 79)\n"
     ]
    }
   ],
   "source": [
    "import os\n",
    "import pandas as pd\n",
    "import numpy as np\n",
    "from sklearn.ensemble import RandomForestClassifier\n",
    "from sklearn.model_selection import train_test_split\n",
    "from sklearn.metrics import classification_report, accuracy_score\n",
    "\n",
    "# Path and Patient IDs\n",
    "base_path = '/Users/Saravanan/patient data/'\n",
    "patient_ids = [319, 320, 321, 325, 330, 338, 303, 304, 310, 318,327,325,303,306,308,309,311,313,314,315,317,335]  # 312 removed\n",
    "\n",
    "X = []\n",
    "y = []  # Placeholder for labels (e.g., 0 = not depressed, 1 = depressed)\n",
    "\n",
    "for pid in patient_ids:\n",
    "    try:\n",
    "        covarep_file = os.path.join(base_path, f'{pid}_COVAREP.csv')\n",
    "        formant_file = os.path.join(base_path, f'{pid}_FORMANT.csv')\n",
    "        \n",
    "        df_covarep = pd.read_csv(covarep_file).dropna()\n",
    "        df_formant = pd.read_csv(formant_file).dropna()\n",
    "\n",
    "        # Average across time (rows) to make a fixed-size feature vector\n",
    "        covarep_mean = df_covarep.mean().values\n",
    "        formant_mean = df_formant.mean().values\n",
    "\n",
    "        features = np.concatenate([covarep_mean, formant_mean])\n",
    "        X.append(features)\n",
    "\n",
    "        # Dummy binary label (randomized just for example)\n",
    "        y.append(np.random.randint(0, 2))  # Replace with actual labels when available\n",
    "\n",
    "    except Exception as e:\n",
    "        print(f\"❌ Patient {pid}: Failed to load/merge data – {e}\")\n",
    "\n",
    "X = np.array(X)\n",
    "y = np.array(y)\n",
    "print(\"✅ Feature shape:\", X.shape)\n"
   ]
  },
  {
   "cell_type": "code",
   "execution_count": 110,
   "id": "3eb83f21",
   "metadata": {},
   "outputs": [
    {
     "name": "stdout",
     "output_type": "stream",
     "text": [
      "✅ Accuracy: 0.5714285714285714\n",
      "📊 Classification Report:\n",
      "               precision    recall  f1-score   support\n",
      "\n",
      "           0       0.60      0.75      0.67         4\n",
      "           1       0.50      0.33      0.40         3\n",
      "\n",
      "    accuracy                           0.57         7\n",
      "   macro avg       0.55      0.54      0.53         7\n",
      "weighted avg       0.56      0.57      0.55         7\n",
      "\n"
     ]
    }
   ],
   "source": [
    "# Split dataset\n",
    "X_train, X_test, y_train, y_test = train_test_split(\n",
    "    X, y, test_size=0.3, random_state=42\n",
    ")\n",
    "\n",
    "# Random Forest Classifier\n",
    "from sklearn.ensemble import RandomForestClassifier\n",
    "\n",
    "rf_model = RandomForestClassifier(n_estimators=700, max_depth=12, random_state=79)\n",
    "\n",
    "rf_model.fit(X_train, y_train)\n",
    "\n",
    "# Predict & Evaluate\n",
    "y_pred = rf_model.predict(X_test)\n",
    "print(\"✅ Accuracy:\", accuracy_score(y_test, y_pred))\n",
    "print(\"📊 Classification Report:\\n\", classification_report(y_test, y_pred))"
   ]
  },
  {
   "cell_type": "code",
   "execution_count": null,
   "id": "b39684b0",
   "metadata": {},
   "outputs": [],
   "source": []
  }
 ],
 "metadata": {
  "kernelspec": {
   "display_name": "Python 3 (ipykernel)",
   "language": "python",
   "name": "python3"
  },
  "language_info": {
   "codemirror_mode": {
    "name": "ipython",
    "version": 3
   },
   "file_extension": ".py",
   "mimetype": "text/x-python",
   "name": "python",
   "nbconvert_exporter": "python",
   "pygments_lexer": "ipython3",
   "version": "3.9.12"
  }
 },
 "nbformat": 4,
 "nbformat_minor": 5
}
