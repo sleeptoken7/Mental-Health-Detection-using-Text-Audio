{
 "cells": [
  {
   "cell_type": "code",
   "execution_count": 1,
   "id": "d7aaf69d",
   "metadata": {},
   "outputs": [],
   "source": [
    "import pandas as pd\n",
    "import numpy as np\n",
    "import os\n",
    "from scipy.stats import skew, kurtosis\n",
    "\n",
    "def summarize_features(df):\n",
    "    stats = {\n",
    "        'mean': df.mean(),\n",
    "        'std': df.std(),\n",
    "        'min': df.min(),\n",
    "        'max': df.max(),\n",
    "        'skew': df.apply(skew),\n",
    "        'kurtosis': df.apply(kurtosis),\n",
    "    }\n",
    "    return pd.concat(stats, axis=0)\n",
    "\n",
    "def process_utterance(start, end, covarep_df, formant_df, sample_rate=100):\n",
    "    # Convert time to frame index\n",
    "    start_idx = int(start * sample_rate)\n",
    "    end_idx = int(end * sample_rate)\n",
    "    \n",
    "    covarep_segment = covarep_df.iloc[start_idx:end_idx]\n",
    "    formant_segment = formant_df.iloc[start_idx:end_idx]\n",
    "    \n",
    "    if covarep_segment.empty or formant_segment.empty:\n",
    "        return None\n",
    "    \n",
    "    covarep_stats = summarize_features(covarep_segment)\n",
    "    formant_stats = summarize_features(formant_segment)\n",
    "    \n",
    "    return pd.concat([covarep_stats, formant_stats], axis=0)\n",
    "\n",
    "def preprocess_participant(transcript_path, covarep_path, formant_path):\n",
    "    transcript = pd.read_csv(transcript_path, sep=\"\\t\")\n",
    "    covarep = pd.read_csv(covarep_path, header=None)\n",
    "    formant = pd.read_csv(formant_path, header=None)\n",
    "\n",
    "    all_features = []\n",
    "    texts = []\n",
    "\n",
    "    for _, row in transcript.iterrows():\n",
    "        features = process_utterance(row['start_time'], row['stop_time'], covarep, formant)\n",
    "        if features is not None:\n",
    "            all_features.append(features)\n",
    "            texts.append(row['value'])\n",
    "\n",
    "    return pd.DataFrame(all_features), texts\n"
   ]
  },
  {
   "cell_type": "code",
   "execution_count": null,
   "id": "1f57da4a",
   "metadata": {},
   "outputs": [],
   "source": []
  }
 ],
 "metadata": {
  "kernelspec": {
   "display_name": "Python 3 (ipykernel)",
   "language": "python",
   "name": "python3"
  },
  "language_info": {
   "codemirror_mode": {
    "name": "ipython",
    "version": 3
   },
   "file_extension": ".py",
   "mimetype": "text/x-python",
   "name": "python",
   "nbconvert_exporter": "python",
   "pygments_lexer": "ipython3",
   "version": "3.9.12"
  }
 },
 "nbformat": 4,
 "nbformat_minor": 5
}
